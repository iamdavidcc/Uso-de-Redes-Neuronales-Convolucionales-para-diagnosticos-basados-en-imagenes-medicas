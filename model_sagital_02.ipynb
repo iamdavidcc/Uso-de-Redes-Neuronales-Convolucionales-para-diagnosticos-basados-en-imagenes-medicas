{
  "cells": [
    {
      "cell_type": "markdown",
      "metadata": {
        "id": "GiZNrMI5IUKl"
      },
      "source": [
        "# Carga de los Datos"
      ]
    },
    {
      "cell_type": "code",
      "execution_count": null,
      "metadata": {
        "id": "CwoszbBNGw1b"
      },
      "outputs": [],
      "source": [
        "# import libraries\n",
        "import torch\n",
        "import numpy as np\n",
        "import cv2\n",
        "import os\n",
        "import matplotlib.pyplot as plt\n",
        "\n",
        "from torchvision import datasets\n",
        "import torchvision.transforms as transforms\n",
        "from torch.utils.data.sampler import SubsetRandomSampler"
      ]
    },
    {
      "cell_type": "code",
      "execution_count": null,
      "metadata": {
        "id": "KMvKl7x_Huo2"
      },
      "outputs": [],
      "source": [
        "# image path - Google Drive\n",
        "data_path = \"/content/drive/MyDrive/images/Axial\""
      ]
    },
    {
      "cell_type": "markdown",
      "source": [
        "## Cálculo de la media y la desviación estándar\n",
        "Se calculan la media y la desviación estándar del conjunto de imágenes para realizar posteriormente en la estandarización de las mismas."
      ],
      "metadata": {
        "id": "N-5ZhSP3VPRe"
      }
    },
    {
      "cell_type": "code",
      "execution_count": null,
      "metadata": {
        "id": "c0Cp06YVr8cM"
      },
      "outputs": [],
      "source": [
        "# resizing\n",
        "transform = transforms.Compose([transforms.Resize((64,64)),\n",
        "                                transforms.ToTensor()])\n",
        "# data loading\n",
        "dataset = datasets.ImageFolder(root=data_path, transform=transform)\n",
        "dataloader = torch.utils.data.DataLoader(dataset=dataset, batch_size=128)"
      ]
    },
    {
      "cell_type": "code",
      "execution_count": null,
      "metadata": {
        "id": "P-mR_ljzr8T_"
      },
      "outputs": [],
      "source": [
        "# mean and standard deviation\n",
        "def get_mean_and_std(dataloader):\n",
        "    channels_sum, channels_squared_sum, num_batches = 0, 0, 0\n",
        "    for data, _ in dataloader:\n",
        "        # Mean over batch, height and width, but not over the channels\n",
        "        channels_sum += torch.mean(data, dim=[0,2,3])\n",
        "        channels_squared_sum += torch.mean(data**2, dim=[0,2,3])\n",
        "        num_batches += 1\n",
        "    \n",
        "    mean = channels_sum / num_batches\n",
        "    std = (channels_squared_sum / num_batches - mean ** 2) ** 0.5\n",
        "\n",
        "    return mean, std"
      ]
    },
    {
      "cell_type": "code",
      "execution_count": null,
      "metadata": {
        "id": "72COBnZHskaA"
      },
      "outputs": [],
      "source": [
        "mean, std = get_mean_and_std(dataloader)"
      ]
    },
    {
      "cell_type": "markdown",
      "metadata": {
        "id": "w5ZkxhGiRgCu"
      },
      "source": [
        "## Redimensionado y estandarización\n",
        "Se definen las transformaciones a realizar para cada una de las imágenes del dataset:\n",
        "\n",
        "\n",
        "*   Redimensionado\n",
        "*   Estandarización"
      ]
    },
    {
      "cell_type": "code",
      "execution_count": null,
      "metadata": {
        "id": "ac7QPOdltTkE"
      },
      "outputs": [],
      "source": [
        "transform = transforms.Compose([transforms.Resize((64,64)),\n",
        "                                transforms.ToTensor(),\n",
        "                                transforms.Normalize(mean, std)])"
      ]
    },
    {
      "cell_type": "code",
      "execution_count": null,
      "metadata": {
        "id": "OgT78tJCITJU"
      },
      "outputs": [],
      "source": [
        "data = datasets.ImageFolder(root=data_path, transform=transform)"
      ]
    },
    {
      "cell_type": "code",
      "execution_count": null,
      "metadata": {
        "id": "vinY4_QII_YX"
      },
      "outputs": [],
      "source": [
        "image, label = data[0]"
      ]
    },
    {
      "cell_type": "code",
      "execution_count": null,
      "metadata": {
        "colab": {
          "base_uri": "https://localhost:8080/"
        },
        "id": "Ee43wI8yJLgP",
        "outputId": "adb539ea-b8c1-4305-ca46-24520b056792"
      },
      "outputs": [
        {
          "output_type": "stream",
          "name": "stdout",
          "text": [
            "torch.Size([3, 64, 64]) 0\n"
          ]
        }
      ],
      "source": [
        "# image size and label\n",
        "print(image.shape, label)"
      ]
    },
    {
      "cell_type": "code",
      "execution_count": null,
      "metadata": {
        "id": "yUB0BQuwKAzV"
      },
      "outputs": [],
      "source": [
        "# image classes\n",
        "classes = data.classes"
      ]
    },
    {
      "cell_type": "code",
      "execution_count": null,
      "metadata": {
        "colab": {
          "base_uri": "https://localhost:8080/",
          "height": 303
        },
        "id": "yGDA06FjKmBJ",
        "outputId": "56167eb7-1b72-4bec-ee69-f995f4a6a4f3"
      },
      "outputs": [
        {
          "output_type": "stream",
          "name": "stderr",
          "text": [
            "WARNING:matplotlib.image:Clipping input data to the valid range for imshow with RGB data ([0..1] for floats or [0..255] for integers).\n"
          ]
        },
        {
          "output_type": "stream",
          "name": "stdout",
          "text": [
            "Label : Healthy\n"
          ]
        },
        {
          "output_type": "display_data",
          "data": {
            "text/plain": [
              "<Figure size 432x288 with 1 Axes>"
            ],
            "image/png": "[encoded data removed]"
          },
          "metadata": {
            "needs_background": "light"
          }
        }
      ],
      "source": [
        "# display an image\n",
        "def display_img(img,label):\n",
        "    print(f\"Label : {data.classes[label]}\")\n",
        "    plt.imshow(img.permute(1,2,0), cmap='gray')\n",
        "\n",
        "# display the first image in the dataset\n",
        "display_img(*data[0])"
      ]
    },
    {
      "cell_type": "code",
      "execution_count": null,
      "metadata": {
        "id": "_G0yCivZHw8D"
      },
      "outputs": [],
      "source": [
        "# number of subprocesses to use for data loading\n",
        "num_workers = 0\n",
        "# how many samples per batch to load\n",
        "batch_size = 32"
      ]
    },
    {
      "cell_type": "code",
      "execution_count": null,
      "metadata": {
        "id": "IB5OFa4dIbec"
      },
      "outputs": [],
      "source": [
        "dataloaders = torch.utils.data.DataLoader(data, batch_size=batch_size, \n",
        "                                          shuffle=True, num_workers=num_workers)"
      ]
    },
    {
      "cell_type": "code",
      "execution_count": null,
      "metadata": {
        "id": "QW30YS6RIxzS"
      },
      "outputs": [],
      "source": [
        "# percentage of training set to use as Test\n",
        "test_size = 0.2\n",
        "# percentage of training set to use as validation\n",
        "valid_size = 0.15"
      ]
    },
    {
      "cell_type": "code",
      "execution_count": null,
      "metadata": {
        "id": "bE7svvyiI210"
      },
      "outputs": [],
      "source": [
        "# obtain training indices that will be used for test\n",
        "num_train = len(data)\n",
        "indices = list(range(num_train))\n",
        "np.random.shuffle(indices)\n",
        "split = int(np.floor(test_size * num_train))\n",
        "train_idx, test_idx = indices[split:], indices[:split]"
      ]
    },
    {
      "cell_type": "code",
      "execution_count": null,
      "metadata": {
        "id": "ERyOLinCI59w"
      },
      "outputs": [],
      "source": [
        "# obtain training indices that will be used for validation\n",
        "num_train = len(train_idx)\n",
        "indices = train_idx\n",
        "split2 = int(np.floor(valid_size * num_train))\n",
        "train_idx, valid_idx = indices[split2:], indices[:split2]"
      ]
    },
    {
      "cell_type": "code",
      "execution_count": null,
      "metadata": {
        "id": "h1B8gHOoI8S1"
      },
      "outputs": [],
      "source": [
        "# define samplers for obtaining training and validation batches\n",
        "train_sampler = SubsetRandomSampler(train_idx)\n",
        "valid_sampler = SubsetRandomSampler(valid_idx)\n",
        "test_sampler = SubsetRandomSampler(test_idx)"
      ]
    },
    {
      "cell_type": "code",
      "execution_count": null,
      "metadata": {
        "colab": {
          "base_uri": "https://localhost:8080/"
        },
        "id": "N1e639Jgs7SM",
        "outputId": "0b2bb7db-a05b-4d31-846a-27f26dc9e9da"
      },
      "outputs": [
        {
          "output_type": "stream",
          "name": "stdout",
          "text": [
            "1124\n",
            "198\n",
            "330\n",
            "1652\n"
          ]
        }
      ],
      "source": [
        "# sizes for train, validation, test and all data\n",
        "print(len(train_sampler))\n",
        "print(len(valid_sampler))\n",
        "print(len(test_sampler))\n",
        "print(len(data))"
      ]
    },
    {
      "cell_type": "code",
      "execution_count": null,
      "metadata": {
        "id": "Z18o5hQyI94c"
      },
      "outputs": [],
      "source": [
        "# prepare data loaders\n",
        "train_loader = torch.utils.data.DataLoader(data, batch_size=batch_size,\n",
        "                                           sampler=train_sampler, num_workers=num_workers)\n",
        "valid_loader = torch.utils.data.DataLoader(data, batch_size=batch_size, \n",
        "                                           sampler=valid_sampler, num_workers=num_workers)\n",
        "test_loader = torch.utils.data.DataLoader(data, batch_size=batch_size, \n",
        "                                          sampler=test_sampler, num_workers=num_workers)"
      ]
    },
    {
      "cell_type": "code",
      "execution_count": null,
      "metadata": {
        "id": "EYP8CzRVKvjz"
      },
      "outputs": [],
      "source": [
        "# Visualizing the images from a batch\n",
        "from torchvision.utils import make_grid\n",
        "import matplotlib.pyplot as plt\n",
        "\n",
        "def show_batch(dl):\n",
        "    \"\"\"Plot images grid of single batch\"\"\"\n",
        "    for images, labels in dl:\n",
        "        fig,ax = plt.subplots(figsize = (16,12))\n",
        "        ax.set_xticks([])\n",
        "        ax.set_yticks([])\n",
        "        ax.imshow(make_grid(images,nrow=16).permute(1,2,0))\n",
        "        break\n",
        "        \n",
        "show_batch(train_loader)"
      ]
    },
    {
      "cell_type": "markdown",
      "metadata": {
        "id": "sBv5k6gzAPA2"
      },
      "source": [
        "# Red Neuronal Convolucional\n",
        "Implementación de la red neuronal convolucional del modelo."
      ]
    },
    {
      "cell_type": "markdown",
      "metadata": {
        "id": "IwFObR0QAw6k"
      },
      "source": [
        "### Entrenamiento y validación:"
      ]
    },
    {
      "cell_type": "code",
      "execution_count": null,
      "metadata": {
        "id": "flXbIzA9MSq5"
      },
      "outputs": [],
      "source": [
        "# import libraries\n",
        "import torch.nn as nn\n",
        "import torch.nn.functional as F\n",
        "\n",
        "class ImageClassificationBase(nn.Module):\n",
        "    \n",
        "    def training_step(self, batch):\n",
        "        images, labels = batch \n",
        "        out = self(images)                  # Generate predictions\n",
        "        loss = F.cross_entropy(out, labels) # Calculate loss\n",
        "        return loss\n",
        "    \n",
        "    def validation_step(self, batch):\n",
        "        images, labels = batch \n",
        "        out = self(images)                    # Generate predictions\n",
        "        loss = F.cross_entropy(out, labels)   # Calculate loss\n",
        "        acc = accuracy(out, labels)           # Calculate accuracy\n",
        "        return {'val_loss': loss.detach(), 'val_acc': acc}\n",
        "        \n",
        "    def validation_epoch_end(self, outputs):\n",
        "        batch_losses = [x['val_loss'] for x in outputs]\n",
        "        epoch_loss = torch.stack(batch_losses).mean()   # Combine losses\n",
        "        batch_accs = [x['val_acc'] for x in outputs]\n",
        "        epoch_acc = torch.stack(batch_accs).mean()      # Combine accuracies\n",
        "        return {'val_loss': epoch_loss.item(), 'val_acc': epoch_acc.item()}\n",
        "    \n",
        "    def epoch_end(self, epoch, result):\n",
        "        print(\"Epoch [{}], train_loss: {:.4f}, val_loss: {:.4f}, val_acc: {:.4f}\".format(\n",
        "            epoch+1, result['train_loss'], result['val_loss'], result['val_acc']))"
      ]
    },
    {
      "cell_type": "markdown",
      "metadata": {
        "id": "lumm7EnLBBpY"
      },
      "source": [
        "Arquitectura de la red neuronal convolucional:"
      ]
    },
    {
      "cell_type": "code",
      "execution_count": null,
      "metadata": {
        "id": "1qzeRiRqAuY6"
      },
      "outputs": [],
      "source": [
        "class MSClassification(ImageClassificationBase):\n",
        "    def __init__(self):\n",
        "        super().__init__()\n",
        "        self.network = nn.Sequential(\n",
        "            # CNN side\n",
        "            # 1\n",
        "            nn.Conv2d(3, 64, kernel_size = 3, stride = 1, padding = 1),\n",
        "            nn.BatchNorm2d(64),\n",
        "            nn.ReLU(inplace=True),\n",
        "            # 2\n",
        "            nn.Conv2d(64, 64, kernel_size = 3, stride = 1, padding = 1),\n",
        "            nn.BatchNorm2d(64),\n",
        "            nn.ReLU(inplace=True),\n",
        "            nn.MaxPool2d(2, 2),\n",
        "            # 3\n",
        "            nn.Conv2d(64, 64, kernel_size = 3, stride = 1, padding = 1),\n",
        "            nn.BatchNorm2d(64),\n",
        "            nn.ReLU(inplace=True),\n",
        "            # 4\n",
        "            nn.Conv2d(64, 64, kernel_size = 3, stride = 1, padding = 1),\n",
        "            nn.BatchNorm2d(64),\n",
        "            nn.ReLU(inplace=True),\n",
        "            # 5\n",
        "            nn.Conv2d(64, 64, kernel_size = 3, stride = 1, padding = 1),\n",
        "            nn.BatchNorm2d(64),\n",
        "            nn.ReLU(inplace=True),\n",
        "            nn.MaxPool2d(2, 2),\n",
        "            # Fully-connected side\n",
        "            nn.Flatten(),\n",
        "            nn.Linear(16384,1024),\n",
        "            nn.BatchNorm1d(1024),\n",
        "            nn.ReLU(inplace=True),\n",
        "            nn.Dropout(0.5),\n",
        "            nn.Linear(1024, 512),\n",
        "            nn.BatchNorm1d(512),\n",
        "            nn.ReLU(inplace=True),\n",
        "            nn.Dropout(0.5),\n",
        "            nn.Linear(512, 256),\n",
        "            nn.BatchNorm1d(256),\n",
        "            nn.ReLU(inplace=True),\n",
        "            nn.Dropout(0.5),\n",
        "            nn.Linear(256,2),\n",
        "        )\n",
        "    \n",
        "    def forward(self, xb):\n",
        "        return self.network(xb)"
      ]
    },
    {
      "cell_type": "markdown",
      "metadata": {
        "id": "FEfcLhrmBHKg"
      },
      "source": [
        "Hiperparámetros, entrenamiento y evaluación del modelo:"
      ]
    },
    {
      "cell_type": "code",
      "execution_count": null,
      "metadata": {
        "id": "U015K0fEBElO"
      },
      "outputs": [],
      "source": [
        "def accuracy(outputs, labels):\n",
        "    _, preds = torch.max(outputs, dim=1)\n",
        "    return torch.tensor(torch.sum(preds == labels).item() / len(preds))\n",
        "\n",
        "  \n",
        "@torch.no_grad()\n",
        "def evaluate(model, val_loader):\n",
        "    model.eval()\n",
        "    outputs = [model.validation_step(batch) for batch in val_loader]\n",
        "    return model.validation_epoch_end(outputs)\n",
        "\n",
        "  \n",
        "def fit(epochs, lr, model, train_loader, val_loader):\n",
        "    history = []\n",
        "    optimizer = torch.optim.Adam(model.parameters(),lr, weight_decay=1e-6)\n",
        "    for epoch in range(epochs):\n",
        "        model.train()\n",
        "        train_losses = []\n",
        "        for batch in train_loader:\n",
        "            loss = model.training_step(batch)\n",
        "            train_losses.append(loss)\n",
        "            loss.backward()\n",
        "            optimizer.step()\n",
        "            optimizer.zero_grad()\n",
        "            \n",
        "        result = evaluate(model, val_loader)\n",
        "        result['train_loss'] = torch.stack(train_losses).mean().item()\n",
        "        model.epoch_end(epoch, result)\n",
        "        history.append(result)\n",
        "    \n",
        "    return history"
      ]
    },
    {
      "cell_type": "markdown",
      "metadata": {
        "id": "3qvM25edBQt6"
      },
      "source": [
        "Vista del modelo de CNN implementado:"
      ]
    },
    {
      "cell_type": "code",
      "execution_count": null,
      "metadata": {
        "colab": {
          "base_uri": "https://localhost:8080/"
        },
        "id": "XhFdbc4NB6eB",
        "outputId": "3302f8ac-ccf9-4b21-919b-399d13a71c17"
      },
      "outputs": [
        {
          "output_type": "execute_result",
          "data": {
            "text/plain": [
              "MSClassification(\n",
              "  (network): Sequential(\n",
              "    (0): Conv2d(3, 64, kernel_size=(3, 3), stride=(1, 1), padding=(1, 1))\n",
              "    (1): BatchNorm2d(64, eps=1e-05, momentum=0.1, affine=True, track_running_stats=True)\n",
              "    (2): ReLU(inplace=True)\n",
              "    (3): Conv2d(64, 64, kernel_size=(3, 3), stride=(1, 1), padding=(1, 1))\n",
              "    (4): BatchNorm2d(64, eps=1e-05, momentum=0.1, affine=True, track_running_stats=True)\n",
              "    (5): ReLU(inplace=True)\n",
              "    (6): MaxPool2d(kernel_size=2, stride=2, padding=0, dilation=1, ceil_mode=False)\n",
              "    (7): Conv2d(64, 64, kernel_size=(3, 3), stride=(1, 1), padding=(1, 1))\n",
              "    (8): BatchNorm2d(64, eps=1e-05, momentum=0.1, affine=True, track_running_stats=True)\n",
              "    (9): ReLU(inplace=True)\n",
              "    (10): Conv2d(64, 64, kernel_size=(3, 3), stride=(1, 1), padding=(1, 1))\n",
              "    (11): BatchNorm2d(64, eps=1e-05, momentum=0.1, affine=True, track_running_stats=True)\n",
              "    (12): ReLU(inplace=True)\n",
              "    (13): Conv2d(64, 64, kernel_size=(3, 3), stride=(1, 1), padding=(1, 1))\n",
              "    (14): BatchNorm2d(64, eps=1e-05, momentum=0.1, affine=True, track_running_stats=True)\n",
              "    (15): ReLU(inplace=True)\n",
              "    (16): MaxPool2d(kernel_size=2, stride=2, padding=0, dilation=1, ceil_mode=False)\n",
              "    (17): Flatten(start_dim=1, end_dim=-1)\n",
              "    (18): Linear(in_features=16384, out_features=1024, bias=True)\n",
              "    (19): BatchNorm1d(1024, eps=1e-05, momentum=0.1, affine=True, track_running_stats=True)\n",
              "    (20): ReLU(inplace=True)\n",
              "    (21): Dropout(p=0.5, inplace=False)\n",
              "    (22): Linear(in_features=1024, out_features=512, bias=True)\n",
              "    (23): BatchNorm1d(512, eps=1e-05, momentum=0.1, affine=True, track_running_stats=True)\n",
              "    (24): ReLU(inplace=True)\n",
              "    (25): Dropout(p=0.5, inplace=False)\n",
              "    (26): Linear(in_features=512, out_features=256, bias=True)\n",
              "    (27): BatchNorm1d(256, eps=1e-05, momentum=0.1, affine=True, track_running_stats=True)\n",
              "    (28): ReLU(inplace=True)\n",
              "    (29): Dropout(p=0.5, inplace=False)\n",
              "    (30): Linear(in_features=256, out_features=2, bias=True)\n",
              "  )\n",
              ")"
            ]
          },
          "metadata": {},
          "execution_count": 28
        }
      ],
      "source": [
        "model = MSClassification()\n",
        "model"
      ]
    },
    {
      "cell_type": "markdown",
      "metadata": {
        "id": "NK_AxeWsL2Fm"
      },
      "source": [
        "Se utiliza, en caso de estar disponible, la GPU para realizar el entrenamiento del modelo:"
      ]
    },
    {
      "cell_type": "code",
      "execution_count": null,
      "metadata": {
        "id": "tifaPnGDL5Hi"
      },
      "outputs": [],
      "source": [
        "def get_default_device():\n",
        "    \"\"\" Set Device to GPU or CPU\"\"\"\n",
        "    if torch.cuda.is_available():\n",
        "        return torch.device('cuda')\n",
        "    else:\n",
        "        return torch.device('cpu')\n",
        "    \n",
        "\n",
        "def to_device(data, device):\n",
        "    \"Move data to the device\"\n",
        "    if isinstance(data,(list,tuple)):\n",
        "        return [to_device(x,device) for x in data]\n",
        "    return data.to(device,non_blocking = True)\n",
        "\n",
        "class DeviceDataLoader():\n",
        "    \"\"\" Wrap a dataloader to move data to a device \"\"\"\n",
        "    \n",
        "    def __init__(self, dl, device):\n",
        "        self.dl = dl\n",
        "        self.device = device\n",
        "    \n",
        "    def __iter__(self):\n",
        "        \"\"\" Yield a batch of data after moving it to device\"\"\"\n",
        "        for b in self.dl:\n",
        "            yield to_device(b,self.device)\n",
        "            \n",
        "    def __len__(self):\n",
        "        \"\"\" Number of batches \"\"\"\n",
        "        return len(self.dl)"
      ]
    },
    {
      "cell_type": "markdown",
      "source": [
        "¿Qué dispositivo se utiliza?"
      ],
      "metadata": {
        "id": "zmBLWCpEWqoy"
      }
    },
    {
      "cell_type": "code",
      "execution_count": null,
      "metadata": {
        "colab": {
          "base_uri": "https://localhost:8080/"
        },
        "id": "kvve-rjGL5FT",
        "outputId": "5e5504a1-b7bf-4892-e0ed-6b575b4c0798"
      },
      "outputs": [
        {
          "output_type": "execute_result",
          "data": {
            "text/plain": [
              "device(type='cpu')"
            ]
          },
          "metadata": {},
          "execution_count": 30
        }
      ],
      "source": [
        "device = get_default_device()\n",
        "device"
      ]
    },
    {
      "cell_type": "markdown",
      "source": [
        "Carga de los archivos para realizar el entrenamiento:"
      ],
      "metadata": {
        "id": "nAts06LOWtD6"
      }
    },
    {
      "cell_type": "code",
      "execution_count": null,
      "metadata": {
        "colab": {
          "base_uri": "https://localhost:8080/"
        },
        "id": "wecIZSQLL5CS",
        "outputId": "4464ee77-9dbe-4a0f-ec09-fd20ec50f7b3"
      },
      "outputs": [
        {
          "output_type": "execute_result",
          "data": {
            "text/plain": [
              "MSClassification(\n",
              "  (network): Sequential(\n",
              "    (0): Conv2d(3, 64, kernel_size=(3, 3), stride=(1, 1), padding=(1, 1))\n",
              "    (1): BatchNorm2d(64, eps=1e-05, momentum=0.1, affine=True, track_running_stats=True)\n",
              "    (2): ReLU(inplace=True)\n",
              "    (3): Conv2d(64, 64, kernel_size=(3, 3), stride=(1, 1), padding=(1, 1))\n",
              "    (4): BatchNorm2d(64, eps=1e-05, momentum=0.1, affine=True, track_running_stats=True)\n",
              "    (5): ReLU(inplace=True)\n",
              "    (6): MaxPool2d(kernel_size=2, stride=2, padding=0, dilation=1, ceil_mode=False)\n",
              "    (7): Conv2d(64, 64, kernel_size=(3, 3), stride=(1, 1), padding=(1, 1))\n",
              "    (8): BatchNorm2d(64, eps=1e-05, momentum=0.1, affine=True, track_running_stats=True)\n",
              "    (9): ReLU(inplace=True)\n",
              "    (10): Conv2d(64, 64, kernel_size=(3, 3), stride=(1, 1), padding=(1, 1))\n",
              "    (11): BatchNorm2d(64, eps=1e-05, momentum=0.1, affine=True, track_running_stats=True)\n",
              "    (12): ReLU(inplace=True)\n",
              "    (13): Conv2d(64, 64, kernel_size=(3, 3), stride=(1, 1), padding=(1, 1))\n",
              "    (14): BatchNorm2d(64, eps=1e-05, momentum=0.1, affine=True, track_running_stats=True)\n",
              "    (15): ReLU(inplace=True)\n",
              "    (16): MaxPool2d(kernel_size=2, stride=2, padding=0, dilation=1, ceil_mode=False)\n",
              "    (17): Flatten(start_dim=1, end_dim=-1)\n",
              "    (18): Linear(in_features=16384, out_features=1024, bias=True)\n",
              "    (19): BatchNorm1d(1024, eps=1e-05, momentum=0.1, affine=True, track_running_stats=True)\n",
              "    (20): ReLU(inplace=True)\n",
              "    (21): Dropout(p=0.5, inplace=False)\n",
              "    (22): Linear(in_features=1024, out_features=512, bias=True)\n",
              "    (23): BatchNorm1d(512, eps=1e-05, momentum=0.1, affine=True, track_running_stats=True)\n",
              "    (24): ReLU(inplace=True)\n",
              "    (25): Dropout(p=0.5, inplace=False)\n",
              "    (26): Linear(in_features=512, out_features=256, bias=True)\n",
              "    (27): BatchNorm1d(256, eps=1e-05, momentum=0.1, affine=True, track_running_stats=True)\n",
              "    (28): ReLU(inplace=True)\n",
              "    (29): Dropout(p=0.5, inplace=False)\n",
              "    (30): Linear(in_features=256, out_features=2, bias=True)\n",
              "  )\n",
              ")"
            ]
          },
          "metadata": {},
          "execution_count": 31
        }
      ],
      "source": [
        "# load data\n",
        "train_loader = DeviceDataLoader(train_loader, device)\n",
        "valid_loader = DeviceDataLoader(valid_loader, device)\n",
        "to_device(model, device)"
      ]
    },
    {
      "cell_type": "code",
      "execution_count": null,
      "metadata": {
        "id": "eICwqTIwL4_u"
      },
      "outputs": [],
      "source": [
        "# load the model to the device\n",
        "model = to_device(MSClassification(),device)"
      ]
    },
    {
      "cell_type": "markdown",
      "source": [
        "Se establecen el número de epochs y el learning rate:"
      ],
      "metadata": {
        "id": "rhXKVe70W0IL"
      }
    },
    {
      "cell_type": "code",
      "execution_count": null,
      "metadata": {
        "id": "w06WtGXCMT22"
      },
      "outputs": [],
      "source": [
        "#set the no. of epochs and learning rate\n",
        "num_epochs = 50\n",
        "lr = 0.001"
      ]
    },
    {
      "cell_type": "markdown",
      "source": [
        "## Entrenamiento del modelo"
      ],
      "metadata": {
        "id": "i7jIBxR1W86r"
      }
    },
    {
      "cell_type": "code",
      "execution_count": null,
      "metadata": {
        "colab": {
          "base_uri": "https://localhost:8080/"
        },
        "id": "Od7lbER8MTu4",
        "outputId": "56732534-d02d-4647-a953-d02af2d43ef5"
      },
      "outputs": [
        {
          "output_type": "stream",
          "name": "stdout",
          "text": [
            "Epoch [1], train_loss: 0.5098, val_loss: 0.9026, val_acc: 0.7500\n",
            "Epoch [2], train_loss: 0.3269, val_loss: 0.1961, val_acc: 0.9464\n",
            "Epoch [3], train_loss: 0.2616, val_loss: 0.2949, val_acc: 0.8854\n",
            "Epoch [4], train_loss: 0.2084, val_loss: 0.2471, val_acc: 0.9048\n",
            "Epoch [5], train_loss: 0.2255, val_loss: 0.8947, val_acc: 0.7039\n",
            "Epoch [6], train_loss: 0.2664, val_loss: 0.2346, val_acc: 0.9375\n",
            "Epoch [7], train_loss: 0.2387, val_loss: 0.2137, val_acc: 0.8765\n",
            "Epoch [8], train_loss: 0.2261, val_loss: 0.1439, val_acc: 0.9464\n",
            "Epoch [9], train_loss: 0.2315, val_loss: 0.5274, val_acc: 0.8423\n",
            "Epoch [10], train_loss: 0.1820, val_loss: 0.1726, val_acc: 0.9554\n",
            "Epoch [11], train_loss: 0.2637, val_loss: 0.3830, val_acc: 0.8080\n",
            "Epoch [12], train_loss: 0.2269, val_loss: 0.2777, val_acc: 0.8542\n",
            "Epoch [13], train_loss: 0.1305, val_loss: 0.1349, val_acc: 0.9732\n",
            "Epoch [14], train_loss: 0.1527, val_loss: 0.0902, val_acc: 0.9688\n",
            "Epoch [15], train_loss: 0.1847, val_loss: 3.9849, val_acc: 0.3958\n",
            "Epoch [16], train_loss: 0.1899, val_loss: 0.1457, val_acc: 0.9360\n",
            "Epoch [17], train_loss: 0.1709, val_loss: 0.2528, val_acc: 0.8676\n",
            "Epoch [18], train_loss: 0.1404, val_loss: 0.1604, val_acc: 0.9375\n",
            "Epoch [19], train_loss: 0.1045, val_loss: 0.2726, val_acc: 0.9062\n",
            "Epoch [20], train_loss: 0.0816, val_loss: 0.1320, val_acc: 0.9554\n",
            "Epoch [21], train_loss: 0.0998, val_loss: 0.1258, val_acc: 0.9643\n",
            "Epoch [22], train_loss: 0.1374, val_loss: 0.0941, val_acc: 0.9688\n",
            "Epoch [23], train_loss: 0.1458, val_loss: 0.4376, val_acc: 0.8080\n",
            "Epoch [24], train_loss: 0.1637, val_loss: 0.3849, val_acc: 0.8646\n",
            "Epoch [25], train_loss: 0.1356, val_loss: 0.1228, val_acc: 0.9509\n",
            "Epoch [26], train_loss: 0.1291, val_loss: 0.1600, val_acc: 0.9420\n",
            "Epoch [27], train_loss: 0.0786, val_loss: 0.1075, val_acc: 0.9598\n",
            "Epoch [28], train_loss: 0.0932, val_loss: 0.2477, val_acc: 0.8810\n",
            "Epoch [29], train_loss: 0.0982, val_loss: 0.1238, val_acc: 0.9554\n",
            "Epoch [30], train_loss: 0.0571, val_loss: 0.0867, val_acc: 0.9732\n",
            "Epoch [31], train_loss: 0.0481, val_loss: 0.0729, val_acc: 0.9732\n",
            "Epoch [32], train_loss: 0.0518, val_loss: 0.1995, val_acc: 0.9464\n",
            "Epoch [33], train_loss: 0.0662, val_loss: 0.3659, val_acc: 0.8408\n",
            "Epoch [34], train_loss: 0.0892, val_loss: 0.0940, val_acc: 0.9688\n",
            "Epoch [35], train_loss: 0.0708, val_loss: 0.2923, val_acc: 0.9137\n",
            "Epoch [36], train_loss: 0.0470, val_loss: 0.0789, val_acc: 0.9732\n",
            "Epoch [37], train_loss: 0.0382, val_loss: 0.2179, val_acc: 0.9315\n",
            "Epoch [38], train_loss: 0.0577, val_loss: 0.1044, val_acc: 0.9598\n",
            "Epoch [39], train_loss: 0.0408, val_loss: 0.1680, val_acc: 0.9405\n",
            "Epoch [40], train_loss: 0.0619, val_loss: 0.0734, val_acc: 0.9732\n",
            "Epoch [41], train_loss: 0.1222, val_loss: 0.2054, val_acc: 0.9464\n",
            "Epoch [42], train_loss: 0.0595, val_loss: 0.1126, val_acc: 0.9539\n",
            "Epoch [43], train_loss: 0.1246, val_loss: 0.4288, val_acc: 0.8467\n",
            "Epoch [44], train_loss: 0.1556, val_loss: 0.0894, val_acc: 0.9732\n",
            "Epoch [45], train_loss: 0.1023, val_loss: 0.1264, val_acc: 0.9688\n",
            "Epoch [46], train_loss: 0.0780, val_loss: 0.0881, val_acc: 0.9688\n",
            "Epoch [47], train_loss: 0.0642, val_loss: 0.0768, val_acc: 0.9732\n",
            "Epoch [48], train_loss: 0.1027, val_loss: 0.0898, val_acc: 0.9643\n",
            "Epoch [49], train_loss: 0.1053, val_loss: 0.6284, val_acc: 0.8914\n",
            "Epoch [50], train_loss: 0.0669, val_loss: 0.0890, val_acc: 0.9598\n"
          ]
        }
      ],
      "source": [
        "# fitting the model on training data and record the result after each epoch\n",
        "history = fit(num_epochs, lr, model, train_loader, valid_loader)"
      ]
    },
    {
      "cell_type": "markdown",
      "source": [
        "Se obtiene el gráfico de evolución de la precisión en función del número de epochs:"
      ],
      "metadata": {
        "id": "aqGaM_C8XDvU"
      }
    },
    {
      "cell_type": "code",
      "execution_count": null,
      "metadata": {
        "id": "S6YkzzqiQNaD",
        "colab": {
          "base_uri": "https://localhost:8080/",
          "height": 295
        },
        "outputId": "ab631be6-b440-4f64-b8df-8c673d2df6d8"
      },
      "outputs": [
        {
          "output_type": "display_data",
          "data": {
            "text/plain": [
              "<Figure size 432x288 with 1 Axes>"
            ],
            "image/png": "[encoded data removed]"
          },
          "metadata": {
            "needs_background": "light"
          }
        }
      ],
      "source": [
        "def plot_accuracies(history):\n",
        "    \"\"\" Plot the history of accuracies\"\"\"\n",
        "    accuracies = [x['val_acc'] for x in history]\n",
        "    plt.plot(accuracies, '-x')\n",
        "    plt.xlabel('epoch')\n",
        "    plt.ylabel('accuracy')\n",
        "    plt.title('Accuracy vs. No. of epochs');\n",
        "    \n",
        "plot_accuracies(history)"
      ]
    },
    {
      "cell_type": "markdown",
      "source": [
        "Se obtiene el gráfico de evolución de la función de pérdidas en función del número de epochs:"
      ],
      "metadata": {
        "id": "YE3QZPNNXIXF"
      }
    },
    {
      "cell_type": "code",
      "execution_count": null,
      "metadata": {
        "id": "ZV1S9wp9QQcI",
        "colab": {
          "base_uri": "https://localhost:8080/",
          "height": 295
        },
        "outputId": "967bd58c-f72e-4f47-ba9a-fee4b993828b"
      },
      "outputs": [
        {
          "output_type": "display_data",
          "data": {
            "text/plain": [
              "<Figure size 432x288 with 1 Axes>"
            ],
            "image/png": "[encoded data removed]"
          },
          "metadata": {
            "needs_background": "light"
          }
        }
      ],
      "source": [
        "def plot_losses(history):\n",
        "    \"\"\" Plot the losses in each epoch\"\"\"\n",
        "    train_losses = [x.get('train_loss') for x in history]\n",
        "    val_losses = [x['val_loss'] for x in history]\n",
        "    plt.plot(train_losses, '-bx')\n",
        "    plt.plot(val_losses, '-rx')\n",
        "    plt.xlabel('epoch')\n",
        "    plt.ylabel('loss')\n",
        "    plt.legend(['Training', 'Validation'])\n",
        "    plt.title('Loss vs. No. of epochs');\n",
        "\n",
        "plot_losses(history)"
      ]
    },
    {
      "cell_type": "markdown",
      "source": [
        "## Evaluación / Test del modelo"
      ],
      "metadata": {
        "id": "mGDxGtUVXSnJ"
      }
    },
    {
      "cell_type": "code",
      "execution_count": null,
      "metadata": {
        "id": "bma5qA6cQTn2",
        "colab": {
          "base_uri": "https://localhost:8080/"
        },
        "outputId": "68b3a308-6aa0-49a6-dbd8-425a97164dda"
      },
      "outputs": [
        {
          "output_type": "execute_result",
          "data": {
            "text/plain": [
              "{'val_loss': 0.11220899224281311, 'val_acc': 0.9545454382896423}"
            ]
          },
          "metadata": {},
          "execution_count": 40
        }
      ],
      "source": [
        "# Apply the model on test dataset and Get the results\n",
        "test_loader = DeviceDataLoader(test_loader, device)\n",
        "result = evaluate(model, test_loader)\n",
        "result"
      ]
    },
    {
      "cell_type": "markdown",
      "source": [
        "### Métricas de la evaluación\n",
        "Se obtienen en primer lugar las predicciones del modelo y las etiquetas correspondientes."
      ],
      "metadata": {
        "id": "ryjdt1MFXVxm"
      }
    },
    {
      "cell_type": "code",
      "execution_count": null,
      "metadata": {
        "id": "7KeTLr61t2mF"
      },
      "outputs": [],
      "source": [
        "from sklearn.metrics import confusion_matrix\n",
        "import seaborn as sn\n",
        "import pandas as pd\n",
        "\n",
        "y_pred = []\n",
        "y_true = []\n",
        "\n",
        "# iterate over test data\n",
        "for inputs, labels in test_loader:\n",
        "        output = model(inputs) # Feed Network\n",
        "\n",
        "        output = (torch.max(torch.exp(output), 1)[1]).data.cpu().numpy()\n",
        "        y_pred.extend(output) # Save Prediction\n",
        "        \n",
        "        labels = labels.data.cpu().numpy()\n",
        "        y_true.extend(labels) # Save Truth"
      ]
    },
    {
      "cell_type": "markdown",
      "source": [
        "#### Matriz de confusión"
      ],
      "metadata": {
        "id": "VA6ARcxFXdRx"
      }
    },
    {
      "cell_type": "code",
      "execution_count": null,
      "metadata": {
        "id": "KvXT22jWyMpz",
        "colab": {
          "base_uri": "https://localhost:8080/",
          "height": 602
        },
        "outputId": "f3fcee61-f764-49a9-b2e2-1a11e45b98e1"
      },
      "outputs": [
        {
          "output_type": "execute_result",
          "data": {
            "text/plain": [
              "(Text(0.5, 1.0, 'Confusion Matrix'), None)"
            ]
          },
          "metadata": {},
          "execution_count": 42
        },
        {
          "output_type": "display_data",
          "data": {
            "text/plain": [
              "<Figure size 576x576 with 1 Axes>"
            ],
            "image/png": "[encoded data removed]"
          },
          "metadata": {
            "needs_background": "light"
          }
        }
      ],
      "source": [
        "# constant for classes\n",
        "classes = ('Healthy', 'EM')\n",
        "plt.figure(figsize = (8,8))\n",
        "# Build confusion matrix\n",
        "cf_matrix = confusion_matrix(y_true, y_pred)\n",
        "df_cm = pd.DataFrame(cf_matrix, index=classes, columns=classes)\n",
        "sn.heatmap(df_cm, annot=True, cbar=None, cmap=\"Blues\", fmt=\"d\")\n",
        "plt.title(\"Confusion Matrix\"), plt.tight_layout()\n"
      ]
    },
    {
      "cell_type": "markdown",
      "source": [
        "#### Resultados de la clasificación del modelo:"
      ],
      "metadata": {
        "id": "LypSvyUHXgfu"
      }
    },
    {
      "cell_type": "code",
      "execution_count": null,
      "metadata": {
        "id": "6DSJA2O8t2YG",
        "colab": {
          "base_uri": "https://localhost:8080/"
        },
        "outputId": "15109fe1-ad96-4362-f3ce-debc57576655"
      },
      "outputs": [
        {
          "output_type": "stream",
          "name": "stdout",
          "text": [
            "              precision    recall  f1-score   support\n",
            "\n",
            "     Healthy       0.99      0.92      0.96       188\n",
            "          EM       0.90      0.99      0.95       142\n",
            "\n",
            "    accuracy                           0.95       330\n",
            "   macro avg       0.95      0.96      0.95       330\n",
            "weighted avg       0.96      0.95      0.95       330\n",
            "\n"
          ]
        }
      ],
      "source": [
        "from sklearn.metrics import classification_report\n",
        "print(classification_report(y_true, y_pred, target_names=classes))"
      ]
    },
    {
      "cell_type": "code",
      "execution_count": null,
      "metadata": {
        "id": "sC-9KDMQDDKN"
      },
      "outputs": [],
      "source": []
    }
  ],
  "metadata": {
    "accelerator": "GPU",
    "colab": {
      "collapsed_sections": [],
      "provenance": []
    },
    "gpuClass": "standard",
    "kernelspec": {
      "display_name": "Python 3",
      "name": "python3"
    },
    "language_info": {
      "name": "python"
    }
  },
  "nbformat": 4,
  "nbformat_minor": 0
}