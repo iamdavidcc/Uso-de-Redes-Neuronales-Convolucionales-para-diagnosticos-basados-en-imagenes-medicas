{
  "cells": [
    {
      "cell_type": "markdown",
      "metadata": {
        "id": "GiZNrMI5IUKl"
      },
      "source": [
        "# Carga de los Datos"
      ]
    },
    {
      "cell_type": "code",
      "execution_count": null,
      "metadata": {
        "id": "CwoszbBNGw1b"
      },
      "outputs": [],
      "source": [
        "# import libraries\n",
        "import torch\n",
        "import numpy as np\n",
        "import cv2\n",
        "import os\n",
        "import matplotlib.pyplot as plt\n",
        "\n",
        "from torchvision import datasets\n",
        "import torchvision.transforms as transforms\n",
        "from torch.utils.data.sampler import SubsetRandomSampler"
      ]
    },
    {
      "cell_type": "code",
      "execution_count": null,
      "metadata": {
        "id": "KMvKl7x_Huo2"
      },
      "outputs": [],
      "source": [
        "# image path - Google Drive\n",
        "data_path = \"/content/drive/MyDrive/images/Axial\""
      ]
    },
    {
      "cell_type": "markdown",
      "source": [
        "## Cálculo de la media y la desviación estándar\n",
        "Se calculan la media y la desviación estándar del conjunto de imágenes para realizar posteriormente en la estandarización de las mismas."
      ],
      "metadata": {
        "id": "fBmXNrjBdp7e"
      }
    },
    {
      "cell_type": "code",
      "execution_count": null,
      "metadata": {
        "id": "c0Cp06YVr8cM"
      },
      "outputs": [],
      "source": [
        "# resizing\n",
        "transform = transforms.Compose([transforms.Resize((64,64)),\n",
        "                                transforms.ToTensor()])\n",
        "# data loading\n",
        "dataset = datasets.ImageFolder(root=data_path, transform=transform)\n",
        "dataloader = torch.utils.data.DataLoader(dataset=dataset, batch_size=128)"
      ]
    },
    {
      "cell_type": "code",
      "execution_count": null,
      "metadata": {
        "id": "P-mR_ljzr8T_"
      },
      "outputs": [],
      "source": [
        "# mean and standard deviation\n",
        "def get_mean_and_std(dataloader):\n",
        "    channels_sum, channels_squared_sum, num_batches = 0, 0, 0\n",
        "    for data, _ in dataloader:\n",
        "        # Mean over batch, height and width, but not over the channels\n",
        "        channels_sum += torch.mean(data, dim=[0,2,3])\n",
        "        channels_squared_sum += torch.mean(data**2, dim=[0,2,3])\n",
        "        num_batches += 1\n",
        "    \n",
        "    mean = channels_sum / num_batches\n",
        "    std = (channels_squared_sum / num_batches - mean ** 2) ** 0.5\n",
        "\n",
        "    return mean, std"
      ]
    },
    {
      "cell_type": "code",
      "execution_count": null,
      "metadata": {
        "id": "72COBnZHskaA"
      },
      "outputs": [],
      "source": [
        "mean, std = get_mean_and_std(dataloader)"
      ]
    },
    {
      "cell_type": "markdown",
      "metadata": {
        "id": "w5ZkxhGiRgCu"
      },
      "source": [
        "## Redimensionado y estandarización\n",
        "Se definen las transformaciones a realizar para cada una de las imágenes del dataset:\n",
        "\n",
        "\n",
        "*   Redimensionado\n",
        "*   Estandarización"
      ]
    },
    {
      "cell_type": "code",
      "execution_count": null,
      "metadata": {
        "id": "ac7QPOdltTkE"
      },
      "outputs": [],
      "source": [
        "transform = transforms.Compose([transforms.Resize((64,64)),\n",
        "                                transforms.ToTensor(),\n",
        "                                transforms.Normalize(mean, std)])"
      ]
    },
    {
      "cell_type": "code",
      "execution_count": null,
      "metadata": {
        "id": "OgT78tJCITJU"
      },
      "outputs": [],
      "source": [
        "data = datasets.ImageFolder(root=data_path, transform=transform)"
      ]
    },
    {
      "cell_type": "code",
      "execution_count": null,
      "metadata": {
        "id": "vinY4_QII_YX"
      },
      "outputs": [],
      "source": [
        "image, label = data[0]"
      ]
    },
    {
      "cell_type": "code",
      "execution_count": null,
      "metadata": {
        "colab": {
          "base_uri": "https://localhost:8080/"
        },
        "id": "Ee43wI8yJLgP",
        "outputId": "4dfdc01a-2824-421b-a9b3-33eb1eb020df"
      },
      "outputs": [
        {
          "output_type": "stream",
          "name": "stdout",
          "text": [
            "torch.Size([3, 64, 64]) 0\n"
          ]
        }
      ],
      "source": [
        "# image size and label\n",
        "print(image.shape, label)"
      ]
    },
    {
      "cell_type": "code",
      "execution_count": null,
      "metadata": {
        "id": "yUB0BQuwKAzV"
      },
      "outputs": [],
      "source": [
        "# images classes\n",
        "classes = data.classes"
      ]
    },
    {
      "cell_type": "code",
      "execution_count": null,
      "metadata": {
        "colab": {
          "base_uri": "https://localhost:8080/",
          "height": 303
        },
        "id": "yGDA06FjKmBJ",
        "outputId": "f9cf73b6-75f0-482c-8b39-4801775fa57f"
      },
      "outputs": [
        {
          "output_type": "stream",
          "name": "stderr",
          "text": [
            "WARNING:matplotlib.image:Clipping input data to the valid range for imshow with RGB data ([0..1] for floats or [0..255] for integers).\n"
          ]
        },
        {
          "output_type": "stream",
          "name": "stdout",
          "text": [
            "Label : Healthy\n"
          ]
        },
        {
          "output_type": "display_data",
          "data": {
            "text/plain": [
              "<Figure size 432x288 with 1 Axes>"
            ],
            "image/png": "[encoded data removed]"
          },
          "metadata": {
            "needs_background": "light"
          }
        }
      ],
      "source": [
        "# display an image\n",
        "def display_img(img,label):\n",
        "    print(f\"Label : {data.classes[label]}\")\n",
        "    plt.imshow(img.permute(1,2,0), cmap='gray')\n",
        "\n",
        "# display the first image in the dataset\n",
        "display_img(*data[0])"
      ]
    },
    {
      "cell_type": "code",
      "execution_count": null,
      "metadata": {
        "id": "_G0yCivZHw8D"
      },
      "outputs": [],
      "source": [
        "# number of subprocesses to use for data loading\n",
        "num_workers = 0\n",
        "# how many samples per batch to load\n",
        "batch_size = 32"
      ]
    },
    {
      "cell_type": "code",
      "execution_count": null,
      "metadata": {
        "id": "IB5OFa4dIbec"
      },
      "outputs": [],
      "source": [
        "dataloaders = torch.utils.data.DataLoader(data, batch_size=batch_size, \n",
        "                                          shuffle=True, num_workers=num_workers)"
      ]
    },
    {
      "cell_type": "code",
      "execution_count": null,
      "metadata": {
        "id": "QW30YS6RIxzS"
      },
      "outputs": [],
      "source": [
        "# percentage of training set to use as Test\n",
        "test_size = 0.2\n",
        "# percentage of training set to use as validation\n",
        "valid_size = 0.15"
      ]
    },
    {
      "cell_type": "code",
      "execution_count": null,
      "metadata": {
        "id": "bE7svvyiI210"
      },
      "outputs": [],
      "source": [
        "# obtain training indices that will be used for test\n",
        "num_train = len(data)\n",
        "indices = list(range(num_train))\n",
        "np.random.shuffle(indices)\n",
        "split = int(np.floor(test_size * num_train))\n",
        "train_idx, test_idx = indices[split:], indices[:split]"
      ]
    },
    {
      "cell_type": "code",
      "execution_count": null,
      "metadata": {
        "id": "ERyOLinCI59w"
      },
      "outputs": [],
      "source": [
        "# obtain training indices that will be used for validation\n",
        "num_train = len(train_idx)\n",
        "indices = train_idx\n",
        "split2 = int(np.floor(valid_size * num_train))\n",
        "train_idx, valid_idx = indices[split2:], indices[:split2]"
      ]
    },
    {
      "cell_type": "code",
      "execution_count": null,
      "metadata": {
        "id": "h1B8gHOoI8S1"
      },
      "outputs": [],
      "source": [
        "# define samplers for obtaining training and validation batches\n",
        "train_sampler = SubsetRandomSampler(train_idx)\n",
        "valid_sampler = SubsetRandomSampler(valid_idx)\n",
        "test_sampler = SubsetRandomSampler(test_idx)"
      ]
    },
    {
      "cell_type": "code",
      "execution_count": null,
      "metadata": {
        "colab": {
          "base_uri": "https://localhost:8080/"
        },
        "id": "N1e639Jgs7SM",
        "outputId": "a1b4d18e-e6ec-4f86-a8ee-fb20e65c2d6b"
      },
      "outputs": [
        {
          "output_type": "stream",
          "name": "stdout",
          "text": [
            "1124\n",
            "198\n",
            "330\n",
            "1652\n"
          ]
        }
      ],
      "source": [
        "# sizes for train, validation, test and all data\n",
        "print(len(train_sampler))\n",
        "print(len(valid_sampler))\n",
        "print(len(test_sampler))\n",
        "print(len(data))"
      ]
    },
    {
      "cell_type": "code",
      "execution_count": null,
      "metadata": {
        "id": "Z18o5hQyI94c"
      },
      "outputs": [],
      "source": [
        "# prepare data loaders\n",
        "train_loader = torch.utils.data.DataLoader(data, batch_size=batch_size,\n",
        "                                           sampler=train_sampler, num_workers=num_workers)\n",
        "valid_loader = torch.utils.data.DataLoader(data, batch_size=batch_size, \n",
        "                                           sampler=valid_sampler, num_workers=num_workers)\n",
        "test_loader = torch.utils.data.DataLoader(data, batch_size=batch_size, \n",
        "                                          sampler=test_sampler, num_workers=num_workers)"
      ]
    },
    {
      "cell_type": "code",
      "execution_count": null,
      "metadata": {
        "id": "EYP8CzRVKvjz"
      },
      "outputs": [],
      "source": [
        "# Visualizing the images from a batch\n",
        "from torchvision.utils import make_grid\n",
        "import matplotlib.pyplot as plt\n",
        "\n",
        "def show_batch(dl):\n",
        "    \"\"\"Plot images grid of single batch\"\"\"\n",
        "    for images, labels in dl:\n",
        "        fig,ax = plt.subplots(figsize = (16,12))\n",
        "        ax.set_xticks([])\n",
        "        ax.set_yticks([])\n",
        "        ax.imshow(make_grid(images,nrow=16).permute(1,2,0))\n",
        "        break\n",
        "        \n",
        "show_batch(train_loader)"
      ]
    },
    {
      "cell_type": "markdown",
      "metadata": {
        "id": "sBv5k6gzAPA2"
      },
      "source": [
        "# Red Neuronal Convolucional\n",
        "Implementación de la red neuronal convolucional del modelo."
      ]
    },
    {
      "cell_type": "markdown",
      "metadata": {
        "id": "IwFObR0QAw6k"
      },
      "source": [
        "## Entrenamiento y validación:"
      ]
    },
    {
      "cell_type": "code",
      "execution_count": null,
      "metadata": {
        "id": "flXbIzA9MSq5"
      },
      "outputs": [],
      "source": [
        "# import libraries\n",
        "import torch.nn as nn\n",
        "import torch.nn.functional as F\n",
        "\n",
        "class ImageClassificationBase(nn.Module):\n",
        "    \n",
        "    def training_step(self, batch):\n",
        "        images, labels = batch \n",
        "        out = self(images)                  # Generate predictions\n",
        "        loss = F.cross_entropy(out, labels) # Calculate loss\n",
        "        return loss\n",
        "    \n",
        "    def validation_step(self, batch):\n",
        "        images, labels = batch \n",
        "        out = self(images)                    # Generate predictions\n",
        "        loss = F.cross_entropy(out, labels)   # Calculate loss\n",
        "        acc = accuracy(out, labels)           # Calculate accuracy\n",
        "        return {'val_loss': loss.detach(), 'val_acc': acc}\n",
        "        \n",
        "    def validation_epoch_end(self, outputs):\n",
        "        batch_losses = [x['val_loss'] for x in outputs]\n",
        "        epoch_loss = torch.stack(batch_losses).mean()   # Combine losses\n",
        "        batch_accs = [x['val_acc'] for x in outputs]\n",
        "        epoch_acc = torch.stack(batch_accs).mean()      # Combine accuracies\n",
        "        return {'val_loss': epoch_loss.item(), 'val_acc': epoch_acc.item()}\n",
        "    \n",
        "    def epoch_end(self, epoch, result):\n",
        "        print(\"Epoch [{}], train_loss: {:.4f}, val_loss: {:.4f}, val_acc: {:.4f}\".format(\n",
        "            epoch+1, result['train_loss'], result['val_loss'], result['val_acc']))"
      ]
    },
    {
      "cell_type": "markdown",
      "metadata": {
        "id": "lumm7EnLBBpY"
      },
      "source": [
        "Arquitectura de la red neuronal convolucional:"
      ]
    },
    {
      "cell_type": "code",
      "execution_count": null,
      "metadata": {
        "id": "1qzeRiRqAuY6"
      },
      "outputs": [],
      "source": [
        "class MSClassification(ImageClassificationBase):\n",
        "    def __init__(self):\n",
        "        super().__init__()\n",
        "        self.network = nn.Sequential(\n",
        "            # CNN-side\n",
        "            # 1. Layer\n",
        "            nn.Conv2d(3, 64, kernel_size = 3, stride = 1, padding = 1),\n",
        "            nn.BatchNorm2d(64),\n",
        "            nn.ReLU(inplace=True),\n",
        "            # 2. Layer\n",
        "            nn.Conv2d(64, 64, kernel_size = 3, stride = 1, padding = 1),\n",
        "            nn.BatchNorm2d(64),\n",
        "            nn.ReLU(inplace=True),\n",
        "            nn.MaxPool2d(2, 2),\n",
        "            # 3. Layer\n",
        "            nn.Conv2d(64, 64, kernel_size = 3, stride = 1, padding = 1),\n",
        "            nn.BatchNorm2d(64),\n",
        "            nn.ReLU(inplace=True),\n",
        "            # 4. Layer\n",
        "            nn.Conv2d(64, 64, kernel_size = 3, stride = 1, padding = 1),\n",
        "            nn.BatchNorm2d(64),\n",
        "            nn.ReLU(inplace=True),\n",
        "            # 5. Layer\n",
        "            nn.Conv2d(64, 64, kernel_size = 3, stride = 1, padding = 1),\n",
        "            nn.BatchNorm2d(64),\n",
        "            nn.ReLU(inplace=True),\n",
        "            nn.MaxPool2d(2, 2),\n",
        "            # fully-connected side\n",
        "            nn.Flatten(),\n",
        "            nn.Linear(16384,1024),\n",
        "            nn.BatchNorm1d(1024),\n",
        "            nn.ReLU(inplace=True),\n",
        "            nn.Dropout(0.5),\n",
        "            nn.Linear(1024, 512),\n",
        "            nn.BatchNorm1d(512),\n",
        "            nn.ReLU(inplace=True),\n",
        "            nn.Dropout(0.5),\n",
        "            nn.Linear(512, 256),\n",
        "            nn.BatchNorm1d(256),\n",
        "            nn.ReLU(inplace=True),\n",
        "            nn.Dropout(0.5),\n",
        "            nn.Linear(256,2),\n",
        "        )\n",
        "    \n",
        "    def forward(self, xb):\n",
        "        return self.network(xb)"
      ]
    },
    {
      "cell_type": "markdown",
      "metadata": {
        "id": "FEfcLhrmBHKg"
      },
      "source": [
        "Hiperparámetros, entrenamiento y evaluación del modelo:"
      ]
    },
    {
      "cell_type": "code",
      "execution_count": null,
      "metadata": {
        "id": "U015K0fEBElO"
      },
      "outputs": [],
      "source": [
        "def accuracy(outputs, labels):\n",
        "    _, preds = torch.max(outputs, dim=1)\n",
        "    return torch.tensor(torch.sum(preds == labels).item() / len(preds))\n",
        "\n",
        "  \n",
        "@torch.no_grad()\n",
        "def evaluate(model, val_loader):\n",
        "    model.eval()\n",
        "    outputs = [model.validation_step(batch) for batch in val_loader]\n",
        "    return model.validation_epoch_end(outputs)\n",
        "\n",
        "\n",
        "def fit(epochs, lr, model, train_loader, val_loader):\n",
        "    history = []\n",
        "    optimizer = torch.optim.Adam(model.parameters(),lr, weight_decay=1e-6)\n",
        "    for epoch in range(epochs):\n",
        "        model.train()\n",
        "        train_losses = []\n",
        "        for batch in train_loader:\n",
        "            loss = model.training_step(batch)\n",
        "            train_losses.append(loss)\n",
        "            loss.backward()\n",
        "            optimizer.step()\n",
        "            optimizer.zero_grad()\n",
        "            \n",
        "        result = evaluate(model, val_loader)\n",
        "        result['train_loss'] = torch.stack(train_losses).mean().item()\n",
        "        model.epoch_end(epoch, result)\n",
        "        history.append(result)\n",
        "    \n",
        "    return history"
      ]
    },
    {
      "cell_type": "markdown",
      "metadata": {
        "id": "3qvM25edBQt6"
      },
      "source": [
        "Vista del modelo de CNN implementado:"
      ]
    },
    {
      "cell_type": "code",
      "execution_count": null,
      "metadata": {
        "colab": {
          "base_uri": "https://localhost:8080/"
        },
        "id": "XhFdbc4NB6eB",
        "outputId": "2725db2e-855e-496e-a5ba-88670ed63153"
      },
      "outputs": [
        {
          "output_type": "execute_result",
          "data": {
            "text/plain": [
              "MSClassification(\n",
              "  (network): Sequential(\n",
              "    (0): Conv2d(3, 64, kernel_size=(3, 3), stride=(1, 1), padding=(1, 1))\n",
              "    (1): BatchNorm2d(64, eps=1e-05, momentum=0.1, affine=True, track_running_stats=True)\n",
              "    (2): ReLU(inplace=True)\n",
              "    (3): Conv2d(64, 64, kernel_size=(3, 3), stride=(1, 1), padding=(1, 1))\n",
              "    (4): BatchNorm2d(64, eps=1e-05, momentum=0.1, affine=True, track_running_stats=True)\n",
              "    (5): ReLU(inplace=True)\n",
              "    (6): MaxPool2d(kernel_size=2, stride=2, padding=0, dilation=1, ceil_mode=False)\n",
              "    (7): Conv2d(64, 64, kernel_size=(3, 3), stride=(1, 1), padding=(1, 1))\n",
              "    (8): BatchNorm2d(64, eps=1e-05, momentum=0.1, affine=True, track_running_stats=True)\n",
              "    (9): ReLU(inplace=True)\n",
              "    (10): Conv2d(64, 64, kernel_size=(3, 3), stride=(1, 1), padding=(1, 1))\n",
              "    (11): BatchNorm2d(64, eps=1e-05, momentum=0.1, affine=True, track_running_stats=True)\n",
              "    (12): ReLU(inplace=True)\n",
              "    (13): Conv2d(64, 64, kernel_size=(3, 3), stride=(1, 1), padding=(1, 1))\n",
              "    (14): BatchNorm2d(64, eps=1e-05, momentum=0.1, affine=True, track_running_stats=True)\n",
              "    (15): ReLU(inplace=True)\n",
              "    (16): MaxPool2d(kernel_size=2, stride=2, padding=0, dilation=1, ceil_mode=False)\n",
              "    (17): Flatten(start_dim=1, end_dim=-1)\n",
              "    (18): Linear(in_features=16384, out_features=1024, bias=True)\n",
              "    (19): BatchNorm1d(1024, eps=1e-05, momentum=0.1, affine=True, track_running_stats=True)\n",
              "    (20): ReLU(inplace=True)\n",
              "    (21): Dropout(p=0.5, inplace=False)\n",
              "    (22): Linear(in_features=1024, out_features=512, bias=True)\n",
              "    (23): BatchNorm1d(512, eps=1e-05, momentum=0.1, affine=True, track_running_stats=True)\n",
              "    (24): ReLU(inplace=True)\n",
              "    (25): Dropout(p=0.5, inplace=False)\n",
              "    (26): Linear(in_features=512, out_features=256, bias=True)\n",
              "    (27): BatchNorm1d(256, eps=1e-05, momentum=0.1, affine=True, track_running_stats=True)\n",
              "    (28): ReLU(inplace=True)\n",
              "    (29): Dropout(p=0.5, inplace=False)\n",
              "    (30): Linear(in_features=256, out_features=2, bias=True)\n",
              "  )\n",
              ")"
            ]
          },
          "metadata": {},
          "execution_count": 28
        }
      ],
      "source": [
        "model = MSClassification()\n",
        "model"
      ]
    },
    {
      "cell_type": "markdown",
      "metadata": {
        "id": "NK_AxeWsL2Fm"
      },
      "source": [
        "Se utiliza, en caso de estar disponible, la GPU para realizar el entrenamiento del modelo:"
      ]
    },
    {
      "cell_type": "code",
      "execution_count": null,
      "metadata": {
        "id": "tifaPnGDL5Hi"
      },
      "outputs": [],
      "source": [
        "def get_default_device():\n",
        "    \"\"\" Set Device to GPU or CPU\"\"\"\n",
        "    if torch.cuda.is_available():\n",
        "        return torch.device('cuda')\n",
        "    else:\n",
        "        return torch.device('cpu')\n",
        "    \n",
        "\n",
        "def to_device(data, device):\n",
        "    \"Move data to the device\"\n",
        "    if isinstance(data,(list,tuple)):\n",
        "        return [to_device(x,device) for x in data]\n",
        "    return data.to(device,non_blocking = True)\n",
        "\n",
        "class DeviceDataLoader():\n",
        "    \"\"\" Wrap a dataloader to move data to a device \"\"\"\n",
        "    \n",
        "    def __init__(self, dl, device):\n",
        "        self.dl = dl\n",
        "        self.device = device\n",
        "    \n",
        "    def __iter__(self):\n",
        "        \"\"\" Yield a batch of data after moving it to device\"\"\"\n",
        "        for b in self.dl:\n",
        "            yield to_device(b,self.device)\n",
        "            \n",
        "    def __len__(self):\n",
        "        \"\"\" Number of batches \"\"\"\n",
        "        return len(self.dl)"
      ]
    },
    {
      "cell_type": "markdown",
      "source": [
        "¿Qué dispositivo se utiliza?"
      ],
      "metadata": {
        "id": "s2eMMRGPelsN"
      }
    },
    {
      "cell_type": "code",
      "execution_count": null,
      "metadata": {
        "colab": {
          "base_uri": "https://localhost:8080/"
        },
        "id": "kvve-rjGL5FT",
        "outputId": "11a39b34-d342-4862-e25d-7bed94839db5"
      },
      "outputs": [
        {
          "output_type": "execute_result",
          "data": {
            "text/plain": [
              "device(type='cpu')"
            ]
          },
          "metadata": {},
          "execution_count": 30
        }
      ],
      "source": [
        "device = get_default_device()\n",
        "device"
      ]
    },
    {
      "cell_type": "markdown",
      "source": [
        "Carga de los archivos para realizar el entrenamiento:"
      ],
      "metadata": {
        "id": "FsMKbBJIeqYV"
      }
    },
    {
      "cell_type": "code",
      "execution_count": null,
      "metadata": {
        "colab": {
          "base_uri": "https://localhost:8080/"
        },
        "id": "wecIZSQLL5CS",
        "outputId": "39d67e01-ce49-467d-d043-7ea34fe9b37e"
      },
      "outputs": [
        {
          "output_type": "execute_result",
          "data": {
            "text/plain": [
              "MSClassification(\n",
              "  (network): Sequential(\n",
              "    (0): Conv2d(3, 64, kernel_size=(3, 3), stride=(1, 1), padding=(1, 1))\n",
              "    (1): BatchNorm2d(64, eps=1e-05, momentum=0.1, affine=True, track_running_stats=True)\n",
              "    (2): ReLU(inplace=True)\n",
              "    (3): Conv2d(64, 64, kernel_size=(3, 3), stride=(1, 1), padding=(1, 1))\n",
              "    (4): BatchNorm2d(64, eps=1e-05, momentum=0.1, affine=True, track_running_stats=True)\n",
              "    (5): ReLU(inplace=True)\n",
              "    (6): MaxPool2d(kernel_size=2, stride=2, padding=0, dilation=1, ceil_mode=False)\n",
              "    (7): Conv2d(64, 64, kernel_size=(3, 3), stride=(1, 1), padding=(1, 1))\n",
              "    (8): BatchNorm2d(64, eps=1e-05, momentum=0.1, affine=True, track_running_stats=True)\n",
              "    (9): ReLU(inplace=True)\n",
              "    (10): Conv2d(64, 64, kernel_size=(3, 3), stride=(1, 1), padding=(1, 1))\n",
              "    (11): BatchNorm2d(64, eps=1e-05, momentum=0.1, affine=True, track_running_stats=True)\n",
              "    (12): ReLU(inplace=True)\n",
              "    (13): Conv2d(64, 64, kernel_size=(3, 3), stride=(1, 1), padding=(1, 1))\n",
              "    (14): BatchNorm2d(64, eps=1e-05, momentum=0.1, affine=True, track_running_stats=True)\n",
              "    (15): ReLU(inplace=True)\n",
              "    (16): MaxPool2d(kernel_size=2, stride=2, padding=0, dilation=1, ceil_mode=False)\n",
              "    (17): Flatten(start_dim=1, end_dim=-1)\n",
              "    (18): Linear(in_features=16384, out_features=1024, bias=True)\n",
              "    (19): BatchNorm1d(1024, eps=1e-05, momentum=0.1, affine=True, track_running_stats=True)\n",
              "    (20): ReLU(inplace=True)\n",
              "    (21): Dropout(p=0.5, inplace=False)\n",
              "    (22): Linear(in_features=1024, out_features=512, bias=True)\n",
              "    (23): BatchNorm1d(512, eps=1e-05, momentum=0.1, affine=True, track_running_stats=True)\n",
              "    (24): ReLU(inplace=True)\n",
              "    (25): Dropout(p=0.5, inplace=False)\n",
              "    (26): Linear(in_features=512, out_features=256, bias=True)\n",
              "    (27): BatchNorm1d(256, eps=1e-05, momentum=0.1, affine=True, track_running_stats=True)\n",
              "    (28): ReLU(inplace=True)\n",
              "    (29): Dropout(p=0.5, inplace=False)\n",
              "    (30): Linear(in_features=256, out_features=2, bias=True)\n",
              "  )\n",
              ")"
            ]
          },
          "metadata": {},
          "execution_count": 31
        }
      ],
      "source": [
        "# load data\n",
        "train_loader = DeviceDataLoader(train_loader, device)\n",
        "valid_loader = DeviceDataLoader(valid_loader, device)\n",
        "to_device(model, device)"
      ]
    },
    {
      "cell_type": "code",
      "execution_count": null,
      "metadata": {
        "id": "eICwqTIwL4_u"
      },
      "outputs": [],
      "source": [
        "#load the model to the device\n",
        "model = to_device(MSClassification(),device)"
      ]
    },
    {
      "cell_type": "markdown",
      "source": [
        "Se establecen el número de epochs del entrenamiento y el learning rate:"
      ],
      "metadata": {
        "id": "ulZLedwXetjc"
      }
    },
    {
      "cell_type": "code",
      "execution_count": null,
      "metadata": {
        "id": "w06WtGXCMT22"
      },
      "outputs": [],
      "source": [
        "#set the no. of epochs and learning rate\n",
        "num_epochs = 50\n",
        "lr = 0.001"
      ]
    },
    {
      "cell_type": "markdown",
      "source": [
        "## Entrenamiento del modelo"
      ],
      "metadata": {
        "id": "rgyjm0Kleyr5"
      }
    },
    {
      "cell_type": "code",
      "execution_count": null,
      "metadata": {
        "colab": {
          "base_uri": "https://localhost:8080/"
        },
        "id": "Od7lbER8MTu4",
        "outputId": "f3a091f4-0c02-466e-bd53-67bb33663a76"
      },
      "outputs": [
        {
          "output_type": "stream",
          "name": "stdout",
          "text": [
            "Epoch [1], train_loss: 0.4702, val_loss: 0.3964, val_acc: 0.8438\n",
            "Epoch [2], train_loss: 0.2682, val_loss: 0.3543, val_acc: 0.8661\n",
            "Epoch [3], train_loss: 0.2613, val_loss: 0.7813, val_acc: 0.6801\n",
            "Epoch [4], train_loss: 0.2393, val_loss: 0.2895, val_acc: 0.8958\n",
            "Epoch [5], train_loss: 0.2785, val_loss: 0.7635, val_acc: 0.6979\n",
            "Epoch [6], train_loss: 0.3036, val_loss: 0.2605, val_acc: 0.9018\n",
            "Epoch [7], train_loss: 0.2152, val_loss: 0.3151, val_acc: 0.8333\n",
            "Epoch [8], train_loss: 0.1868, val_loss: 0.2396, val_acc: 0.9152\n",
            "Epoch [9], train_loss: 0.1741, val_loss: 0.2200, val_acc: 0.9241\n",
            "Epoch [10], train_loss: 0.1354, val_loss: 0.2445, val_acc: 0.9018\n",
            "Epoch [11], train_loss: 0.1938, val_loss: 0.3499, val_acc: 0.8869\n",
            "Epoch [12], train_loss: 0.1626, val_loss: 0.3743, val_acc: 0.8095\n",
            "Epoch [13], train_loss: 0.2648, val_loss: 0.4066, val_acc: 0.8958\n",
            "Epoch [14], train_loss: 0.1410, val_loss: 0.1924, val_acc: 0.9330\n",
            "Epoch [15], train_loss: 0.1299, val_loss: 0.1916, val_acc: 0.9137\n",
            "Epoch [16], train_loss: 0.1297, val_loss: 0.2331, val_acc: 0.9137\n",
            "Epoch [17], train_loss: 0.1334, val_loss: 0.1899, val_acc: 0.9241\n",
            "Epoch [18], train_loss: 0.1507, val_loss: 0.2152, val_acc: 0.9286\n",
            "Epoch [19], train_loss: 0.1804, val_loss: 0.3178, val_acc: 0.8780\n",
            "Epoch [20], train_loss: 0.0827, val_loss: 0.2633, val_acc: 0.8914\n",
            "Epoch [21], train_loss: 0.0736, val_loss: 0.2040, val_acc: 0.9464\n",
            "Epoch [22], train_loss: 0.0993, val_loss: 0.2376, val_acc: 0.9330\n",
            "Epoch [23], train_loss: 0.1318, val_loss: 0.3228, val_acc: 0.9048\n",
            "Epoch [24], train_loss: 0.0938, val_loss: 0.2999, val_acc: 0.9271\n",
            "Epoch [25], train_loss: 0.0697, val_loss: 0.1800, val_acc: 0.9509\n",
            "Epoch [26], train_loss: 0.0554, val_loss: 0.2096, val_acc: 0.9375\n",
            "Epoch [27], train_loss: 0.0650, val_loss: 0.2080, val_acc: 0.9286\n",
            "Epoch [28], train_loss: 0.0659, val_loss: 0.2649, val_acc: 0.9152\n",
            "Epoch [29], train_loss: 0.0521, val_loss: 0.2787, val_acc: 0.9286\n",
            "Epoch [30], train_loss: 0.0650, val_loss: 0.3080, val_acc: 0.9226\n",
            "Epoch [31], train_loss: 0.0548, val_loss: 0.4579, val_acc: 0.9152\n",
            "Epoch [32], train_loss: 0.2111, val_loss: 0.4788, val_acc: 0.8170\n",
            "Epoch [33], train_loss: 0.0989, val_loss: 0.3005, val_acc: 0.8646\n",
            "Epoch [34], train_loss: 0.0712, val_loss: 0.2165, val_acc: 0.9107\n",
            "Epoch [35], train_loss: 0.0667, val_loss: 0.2360, val_acc: 0.9330\n",
            "Epoch [36], train_loss: 0.0552, val_loss: 0.4322, val_acc: 0.8304\n",
            "Epoch [37], train_loss: 0.0389, val_loss: 0.3219, val_acc: 0.9330\n",
            "Epoch [38], train_loss: 0.0467, val_loss: 0.2314, val_acc: 0.9464\n",
            "Epoch [39], train_loss: 0.0435, val_loss: 0.3820, val_acc: 0.9137\n",
            "Epoch [40], train_loss: 0.0960, val_loss: 0.8000, val_acc: 0.7336\n",
            "Epoch [41], train_loss: 0.1184, val_loss: 0.4977, val_acc: 0.7366\n",
            "Epoch [42], train_loss: 0.0424, val_loss: 0.2804, val_acc: 0.9420\n",
            "Epoch [43], train_loss: 0.0941, val_loss: 0.2761, val_acc: 0.9137\n",
            "Epoch [44], train_loss: 0.1566, val_loss: 0.2005, val_acc: 0.9420\n",
            "Epoch [45], train_loss: 0.0806, val_loss: 0.2098, val_acc: 0.9315\n",
            "Epoch [46], train_loss: 0.0862, val_loss: 0.3853, val_acc: 0.7902\n",
            "Epoch [47], train_loss: 0.0416, val_loss: 0.2121, val_acc: 0.9464\n",
            "Epoch [48], train_loss: 0.0513, val_loss: 0.2804, val_acc: 0.9375\n",
            "Epoch [49], train_loss: 0.0458, val_loss: 0.2396, val_acc: 0.9509\n",
            "Epoch [50], train_loss: 0.0543, val_loss: 0.2477, val_acc: 0.9375\n"
          ]
        }
      ],
      "source": [
        "# fitting the model on training data and record the result after each epoch\n",
        "history = fit(num_epochs, lr, model, train_loader, valid_loader)"
      ]
    },
    {
      "cell_type": "markdown",
      "source": [
        "Se obtiene el gráfico de evolución de la precisión en función del número de epochs:"
      ],
      "metadata": {
        "id": "FOeAnnT0e195"
      }
    },
    {
      "cell_type": "code",
      "execution_count": null,
      "metadata": {
        "id": "S6YkzzqiQNaD",
        "colab": {
          "base_uri": "https://localhost:8080/",
          "height": 295
        },
        "outputId": "93963ed3-c8b3-441d-8d43-b70141917b37"
      },
      "outputs": [
        {
          "output_type": "display_data",
          "data": {
            "text/plain": [
              "<Figure size 432x288 with 1 Axes>"
            ],
            "image/png": "[encoded data removed]"
          },
          "metadata": {
            "needs_background": "light"
          }
        }
      ],
      "source": [
        "def plot_accuracies(history):\n",
        "    \"\"\" Plot the history of accuracies\"\"\"\n",
        "    accuracies = [x['val_acc'] for x in history]\n",
        "    plt.plot(accuracies, '-x')\n",
        "    plt.xlabel('epoch')\n",
        "    plt.ylabel('accuracy')\n",
        "    plt.title('Accuracy vs. No. of epochs');\n",
        "    \n",
        "plot_accuracies(history)"
      ]
    },
    {
      "cell_type": "markdown",
      "source": [
        "Se obtiene el gráfico de evolución de la función de pérdidas en función del número de epochs:"
      ],
      "metadata": {
        "id": "2gXGxuhIe2w5"
      }
    },
    {
      "cell_type": "code",
      "execution_count": null,
      "metadata": {
        "id": "ZV1S9wp9QQcI",
        "colab": {
          "base_uri": "https://localhost:8080/",
          "height": 295
        },
        "outputId": "bc7819c4-730b-4e13-bfa5-b0cc1959bde5"
      },
      "outputs": [
        {
          "output_type": "display_data",
          "data": {
            "text/plain": [
              "<Figure size 432x288 with 1 Axes>"
            ],
            "image/png": "[encoded data removed]"
          },
          "metadata": {
            "needs_background": "light"
          }
        }
      ],
      "source": [
        "def plot_losses(history):\n",
        "    \"\"\" Plot the losses in each epoch\"\"\"\n",
        "    train_losses = [x.get('train_loss') for x in history]\n",
        "    val_losses = [x['val_loss'] for x in history]\n",
        "    plt.plot(train_losses, '-bx')\n",
        "    plt.plot(val_losses, '-rx')\n",
        "    plt.xlabel('epoch')\n",
        "    plt.ylabel('loss')\n",
        "    plt.legend(['Training', 'Validation'])\n",
        "    plt.title('Loss vs. No. of epochs');\n",
        "\n",
        "plot_losses(history)"
      ]
    },
    {
      "cell_type": "markdown",
      "source": [
        "## Evaluación / Test del modelo:"
      ],
      "metadata": {
        "id": "lpcFVuSie42h"
      }
    },
    {
      "cell_type": "code",
      "execution_count": null,
      "metadata": {
        "id": "bma5qA6cQTn2",
        "colab": {
          "base_uri": "https://localhost:8080/"
        },
        "outputId": "648d9aba-004a-4429-a4a3-c61799dfa1cd"
      },
      "outputs": [
        {
          "output_type": "execute_result",
          "data": {
            "text/plain": [
              "{'val_loss': 0.15775319933891296, 'val_acc': 0.9482954144477844}"
            ]
          },
          "metadata": {},
          "execution_count": 40
        }
      ],
      "source": [
        "# Apply the model on test dataset and Get the results\n",
        "test_loader = DeviceDataLoader(test_loader, device)\n",
        "result = evaluate(model, test_loader)\n",
        "result"
      ]
    },
    {
      "cell_type": "markdown",
      "source": [
        "### Métricas de la evaluación:\n",
        "Se obtienen en primer lugar las predicciones del modelo y las etiquetas correspondientes."
      ],
      "metadata": {
        "id": "YPs36Y6ce-Ix"
      }
    },
    {
      "cell_type": "code",
      "execution_count": null,
      "metadata": {
        "id": "7KeTLr61t2mF"
      },
      "outputs": [],
      "source": [
        "from sklearn.metrics import confusion_matrix\n",
        "import seaborn as sn\n",
        "import pandas as pd\n",
        "\n",
        "y_pred = []\n",
        "y_true = []\n",
        "\n",
        "# iterate over test data\n",
        "for inputs, labels in test_loader:\n",
        "        output = model(inputs) # Feed Network\n",
        "\n",
        "        output = (torch.max(torch.exp(output), 1)[1]).data.cpu().numpy()\n",
        "        y_pred.extend(output) # Save Prediction\n",
        "        \n",
        "        labels = labels.data.cpu().numpy()\n",
        "        y_true.extend(labels) # Save Truth"
      ]
    },
    {
      "cell_type": "markdown",
      "source": [
        "#### Matriz de confusión"
      ],
      "metadata": {
        "id": "XWbuKfW2fCbN"
      }
    },
    {
      "cell_type": "code",
      "execution_count": null,
      "metadata": {
        "id": "KvXT22jWyMpz",
        "colab": {
          "base_uri": "https://localhost:8080/",
          "height": 602
        },
        "outputId": "817fb203-b434-49aa-f3e8-1837abdf6c11"
      },
      "outputs": [
        {
          "output_type": "execute_result",
          "data": {
            "text/plain": [
              "(Text(0.5, 1.0, 'Confusion Matrix'), None)"
            ]
          },
          "metadata": {},
          "execution_count": 42
        },
        {
          "output_type": "display_data",
          "data": {
            "text/plain": [
              "<Figure size 576x576 with 1 Axes>"
            ],
            "image/png": "[encoded data removed]"
          },
          "metadata": {
            "needs_background": "light"
          }
        }
      ],
      "source": [
        "# constant for classes\n",
        "classes = ('Healthy', 'EM')\n",
        "plt.figure(figsize = (8,8))\n",
        "# Build confusion matrix\n",
        "cf_matrix = confusion_matrix(y_true, y_pred)\n",
        "df_cm = pd.DataFrame(cf_matrix, index=classes, columns=classes)\n",
        "sn.heatmap(df_cm, annot=True, cbar=None, cmap=\"Blues\", fmt=\"d\")\n",
        "plt.title(\"Confusion Matrix\"), plt.tight_layout()"
      ]
    },
    {
      "cell_type": "markdown",
      "source": [
        "#### Resultados de la clasificación del modelo:"
      ],
      "metadata": {
        "id": "s-LbtuGnfExt"
      }
    },
    {
      "cell_type": "code",
      "execution_count": null,
      "metadata": {
        "id": "6DSJA2O8t2YG",
        "colab": {
          "base_uri": "https://localhost:8080/"
        },
        "outputId": "fb00cfae-c13c-4831-d95f-75e13a78c8bf"
      },
      "outputs": [
        {
          "output_type": "stream",
          "name": "stdout",
          "text": [
            "              precision    recall  f1-score   support\n",
            "\n",
            "     Healthy       0.98      0.94      0.96       210\n",
            "          EM       0.90      0.97      0.94       120\n",
            "\n",
            "    accuracy                           0.95       330\n",
            "   macro avg       0.94      0.96      0.95       330\n",
            "weighted avg       0.95      0.95      0.95       330\n",
            "\n"
          ]
        }
      ],
      "source": [
        "from sklearn.metrics import classification_report\n",
        "print(classification_report(y_true, y_pred, target_names=classes))"
      ]
    },
    {
      "cell_type": "code",
      "execution_count": null,
      "metadata": {
        "id": "sC-9KDMQDDKN"
      },
      "outputs": [],
      "source": []
    }
  ],
  "metadata": {
    "accelerator": "GPU",
    "colab": {
      "collapsed_sections": [],
      "provenance": []
    },
    "gpuClass": "standard",
    "kernelspec": {
      "display_name": "Python 3",
      "name": "python3"
    },
    "language_info": {
      "name": "python"
    }
  },
  "nbformat": 4,
  "nbformat_minor": 0
}