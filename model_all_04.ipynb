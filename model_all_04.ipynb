{
  "cells": [
    {
      "cell_type": "markdown",
      "metadata": {
        "id": "GiZNrMI5IUKl"
      },
      "source": [
        "# Carga de los Datos"
      ]
    },
    {
      "cell_type": "code",
      "execution_count": null,
      "metadata": {
        "id": "CwoszbBNGw1b"
      },
      "outputs": [],
      "source": [
        "# import libraries\n",
        "import torch\n",
        "import numpy as np\n",
        "import cv2\n",
        "import os\n",
        "import matplotlib.pyplot as plt\n",
        "\n",
        "from torchvision import datasets\n",
        "import torchvision.transforms as transforms\n",
        "from torch.utils.data.sampler import SubsetRandomSampler"
      ]
    },
    {
      "cell_type": "code",
      "execution_count": null,
      "metadata": {
        "id": "KMvKl7x_Huo2"
      },
      "outputs": [],
      "source": [
        "# image path - Google Drive\n",
        "data_path = \"/content/drive/MyDrive/images/ALL\""
      ]
    },
    {
      "cell_type": "markdown",
      "source": [
        "## Cálculo de la media y la desviación estándar\n",
        "Se calculan la media y la desviación estándar del conjunto de imágenes para realizar posteriormente en la estandarización de las mismas. "
      ],
      "metadata": {
        "id": "IHD33V2MMVn-"
      }
    },
    {
      "cell_type": "code",
      "execution_count": null,
      "metadata": {
        "id": "c0Cp06YVr8cM"
      },
      "outputs": [],
      "source": [
        "# resizing\n",
        "transform = transforms.Compose([transforms.Resize((64,64)),\n",
        "                                transforms.ToTensor()])\n",
        "# data loading\n",
        "dataset = datasets.ImageFolder(root=data_path, transform=transform)\n",
        "dataloader = torch.utils.data.DataLoader(dataset=dataset, batch_size=128)"
      ]
    },
    {
      "cell_type": "code",
      "execution_count": null,
      "metadata": {
        "id": "P-mR_ljzr8T_"
      },
      "outputs": [],
      "source": [
        "# mean and standar deviation:\n",
        "def get_mean_and_std(dataloader):\n",
        "    channels_sum, channels_squared_sum, num_batches = 0, 0, 0\n",
        "    for data, _ in dataloader:\n",
        "        # Mean over batch, height and width, but not over the channels\n",
        "        channels_sum += torch.mean(data, dim=[0,2,3])\n",
        "        channels_squared_sum += torch.mean(data**2, dim=[0,2,3])\n",
        "        num_batches += 1\n",
        "    \n",
        "    mean = channels_sum / num_batches\n",
        "\n",
        "    # std = sqrt(E[X^2] - (E[X])^2)\n",
        "    std = (channels_squared_sum / num_batches - mean ** 2) ** 0.5\n",
        "\n",
        "    return mean, std"
      ]
    },
    {
      "cell_type": "code",
      "execution_count": null,
      "metadata": {
        "id": "72COBnZHskaA"
      },
      "outputs": [],
      "source": [
        "mean, std = get_mean_and_std(dataloader)"
      ]
    },
    {
      "cell_type": "markdown",
      "metadata": {
        "id": "w5ZkxhGiRgCu"
      },
      "source": [
        "## Redimensionado y estandarización\n",
        "Se definen las transformaciones a realizar para cada una de las imágenes del dataset:\n",
        "\n",
        "\n",
        "*   Redimensionado\n",
        "*   Estandarización"
      ]
    },
    {
      "cell_type": "code",
      "execution_count": null,
      "metadata": {
        "id": "ac7QPOdltTkE"
      },
      "outputs": [],
      "source": [
        "\n",
        "transform = transforms.Compose([transforms.Resize((64,64)),\n",
        "                                transforms.ToTensor(),\n",
        "                                transforms.Normalize(mean, std)])"
      ]
    },
    {
      "cell_type": "code",
      "execution_count": null,
      "metadata": {
        "id": "OgT78tJCITJU"
      },
      "outputs": [],
      "source": [
        "data = datasets.ImageFolder(root=data_path, transform=transform)"
      ]
    },
    {
      "cell_type": "code",
      "execution_count": null,
      "metadata": {
        "id": "vinY4_QII_YX"
      },
      "outputs": [],
      "source": [
        "image, label = data[0]"
      ]
    },
    {
      "cell_type": "code",
      "execution_count": null,
      "metadata": {
        "colab": {
          "base_uri": "https://localhost:8080/"
        },
        "id": "Ee43wI8yJLgP",
        "outputId": "428ea73a-d432-45f7-dcf4-3135653d7f56"
      },
      "outputs": [
        {
          "output_type": "stream",
          "name": "stdout",
          "text": [
            "torch.Size([3, 64, 64]) 0\n"
          ]
        }
      ],
      "source": [
        "# image size and label\n",
        "print(image.shape, label)"
      ]
    },
    {
      "cell_type": "code",
      "execution_count": null,
      "metadata": {
        "id": "yUB0BQuwKAzV"
      },
      "outputs": [],
      "source": [
        "# images classes\n",
        "classes = data.classes"
      ]
    },
    {
      "cell_type": "code",
      "execution_count": null,
      "metadata": {
        "colab": {
          "base_uri": "https://localhost:8080/",
          "height": 325
        },
        "id": "yGDA06FjKmBJ",
        "outputId": "61656aa7-6cee-42f9-ced4-9c273a8d5212"
      },
      "outputs": [
        {
          "output_type": "stream",
          "name": "stderr",
          "text": [
            "WARNING:matplotlib.image:Clipping input data to the valid range for imshow with RGB data ([0..1] for floats or [0..255] for integers).\n"
          ]
        },
        {
          "output_type": "stream",
          "name": "stdout",
          "text": [
            "Label : Healthy\n"
          ]
        },
        {
          "output_type": "display_data",
          "data": {
            "text/plain": [
              "<Figure size 432x288 with 1 Axes>"
            ],
            "image/png": "[encoded data removed]"
          },
          "metadata": {
            "needs_background": "light"
          }
        }
      ],
      "source": [
        "# display an image\n",
        "def display_img(img,label):\n",
        "    print(f\"Label : {data.classes[label]}\")\n",
        "    plt.imshow(img.permute(1,2,0), cmap='gray')\n",
        "\n",
        "# display the first image in the dataset\n",
        "display_img(*data[0])"
      ]
    },
    {
      "cell_type": "code",
      "execution_count": null,
      "metadata": {
        "id": "_G0yCivZHw8D"
      },
      "outputs": [],
      "source": [
        "# number of subprocesses to use for data loading\n",
        "num_workers = 0\n",
        "# how many samples per batch to load\n",
        "batch_size = 32"
      ]
    },
    {
      "cell_type": "code",
      "execution_count": null,
      "metadata": {
        "id": "IB5OFa4dIbec"
      },
      "outputs": [],
      "source": [
        "dataloaders = torch.utils.data.DataLoader(data, batch_size=batch_size, \n",
        "                                          shuffle=True, num_workers=num_workers)"
      ]
    },
    {
      "cell_type": "code",
      "execution_count": null,
      "metadata": {
        "id": "QW30YS6RIxzS"
      },
      "outputs": [],
      "source": [
        "# percentage of training set to use as Test\n",
        "test_size = 0.2\n",
        "# percentage of training set to use as validation\n",
        "valid_size = 0.15"
      ]
    },
    {
      "cell_type": "code",
      "execution_count": null,
      "metadata": {
        "id": "bE7svvyiI210"
      },
      "outputs": [],
      "source": [
        "# obtain training indices that will be used for test\n",
        "num_train = len(data)\n",
        "indices = list(range(num_train))\n",
        "np.random.shuffle(indices)\n",
        "split = int(np.floor(test_size * num_train))\n",
        "train_idx, test_idx = indices[split:], indices[:split]"
      ]
    },
    {
      "cell_type": "code",
      "execution_count": null,
      "metadata": {
        "id": "ERyOLinCI59w"
      },
      "outputs": [],
      "source": [
        "# obtain training indices that will be used for validation\n",
        "num_train = len(train_idx)\n",
        "indices = train_idx\n",
        "split2 = int(np.floor(valid_size * num_train))\n",
        "train_idx, valid_idx = indices[split2:], indices[:split2]"
      ]
    },
    {
      "cell_type": "code",
      "execution_count": null,
      "metadata": {
        "id": "h1B8gHOoI8S1"
      },
      "outputs": [],
      "source": [
        "# define samplers for obtaining training and validation batches\n",
        "train_sampler = SubsetRandomSampler(train_idx)\n",
        "valid_sampler = SubsetRandomSampler(valid_idx)\n",
        "test_sampler = SubsetRandomSampler(test_idx)"
      ]
    },
    {
      "cell_type": "code",
      "execution_count": null,
      "metadata": {
        "colab": {
          "base_uri": "https://localhost:8080/"
        },
        "id": "N1e639Jgs7SM",
        "outputId": "0a1a8d6d-6935-423a-81c4-6241cccf5503"
      },
      "outputs": [
        {
          "output_type": "stream",
          "name": "stdout",
          "text": [
            "2331\n",
            "411\n",
            "685\n",
            "3427\n"
          ]
        }
      ],
      "source": [
        "# Sizes for train, validation, test and all data \n",
        "print(len(train_sampler))\n",
        "print(len(valid_sampler))\n",
        "print(len(test_sampler))\n",
        "print(len(data))"
      ]
    },
    {
      "cell_type": "code",
      "execution_count": null,
      "metadata": {
        "id": "Z18o5hQyI94c"
      },
      "outputs": [],
      "source": [
        "# prepare data loaders\n",
        "train_loader = torch.utils.data.DataLoader(data, batch_size=batch_size,\n",
        "                                           sampler=train_sampler, num_workers=num_workers)\n",
        "valid_loader = torch.utils.data.DataLoader(data, batch_size=batch_size, \n",
        "                                           sampler=valid_sampler, num_workers=num_workers)\n",
        "test_loader = torch.utils.data.DataLoader(data, batch_size=batch_size, \n",
        "                                          sampler=test_sampler, num_workers=num_workers)"
      ]
    },
    {
      "cell_type": "code",
      "execution_count": null,
      "metadata": {
        "id": "EYP8CzRVKvjz"
      },
      "outputs": [],
      "source": [
        "# Visualizing the images from a batch\n",
        "from torchvision.utils import make_grid\n",
        "import matplotlib.pyplot as plt\n",
        "\n",
        "def show_batch(dl):\n",
        "    \"\"\"Plot images grid of single batch\"\"\"\n",
        "    for images, labels in dl:\n",
        "        fig,ax = plt.subplots(figsize = (16,12))\n",
        "        ax.set_xticks([])\n",
        "        ax.set_yticks([])\n",
        "        ax.imshow(make_grid(images,nrow=16).permute(1,2,0))\n",
        "        break\n",
        "        \n",
        "show_batch(train_loader)"
      ]
    },
    {
      "cell_type": "markdown",
      "metadata": {
        "id": "sBv5k6gzAPA2"
      },
      "source": [
        "# Red Neuronal Convolucional\n",
        "Implementación de la red neuronal convolucional del modelo."
      ]
    },
    {
      "cell_type": "markdown",
      "metadata": {
        "id": "IwFObR0QAw6k"
      },
      "source": [
        "## Entrenamiento y validación:"
      ]
    },
    {
      "cell_type": "code",
      "execution_count": null,
      "metadata": {
        "id": "flXbIzA9MSq5"
      },
      "outputs": [],
      "source": [
        "# import libraries\n",
        "import torch.nn as nn\n",
        "import torch.nn.functional as F\n",
        "\n",
        "class ImageClassificationBase(nn.Module):\n",
        "    \n",
        "    def training_step(self, batch):\n",
        "        images, labels = batch \n",
        "        out = self(images)                  # Generate predictions\n",
        "        loss = F.cross_entropy(out, labels) # Calculate loss\n",
        "        return loss\n",
        "    \n",
        "    def validation_step(self, batch):\n",
        "        images, labels = batch \n",
        "        out = self(images)                    # Generate predictions\n",
        "        loss = F.cross_entropy(out, labels)   # Calculate loss\n",
        "        acc = accuracy(out, labels)           # Calculate accuracy\n",
        "        return {'val_loss': loss.detach(), 'val_acc': acc}\n",
        "        \n",
        "    def validation_epoch_end(self, outputs):\n",
        "        batch_losses = [x['val_loss'] for x in outputs]\n",
        "        epoch_loss = torch.stack(batch_losses).mean()   # Combine losses\n",
        "        batch_accs = [x['val_acc'] for x in outputs]\n",
        "        epoch_acc = torch.stack(batch_accs).mean()      # Combine accuracies\n",
        "        return {'val_loss': epoch_loss.item(), 'val_acc': epoch_acc.item()}\n",
        "    \n",
        "    def epoch_end(self, epoch, result):\n",
        "        print(\"Epoch [{}], train_loss: {:.4f}, val_loss: {:.4f}, val_acc: {:.4f}\".format(\n",
        "            epoch+1, result['train_loss'], result['val_loss'], result['val_acc']))"
      ]
    },
    {
      "cell_type": "markdown",
      "metadata": {
        "id": "lumm7EnLBBpY"
      },
      "source": [
        "Arquitectura de la red neuronal convolucional:"
      ]
    },
    {
      "cell_type": "code",
      "execution_count": null,
      "metadata": {
        "id": "1qzeRiRqAuY6"
      },
      "outputs": [],
      "source": [
        "class MSClassification(ImageClassificationBase):\n",
        "    def __init__(self):\n",
        "        super().__init__()\n",
        "        self.network = nn.Sequential(\n",
        "            # CNN-side\n",
        "            # 1. Layer\n",
        "            nn.Conv2d(3, 64, kernel_size = 3, stride = 1, padding = 1),\n",
        "            nn.BatchNorm2d(64),\n",
        "            nn.ReLU(inplace=True),\n",
        "            # 2. Layer\n",
        "            nn.Conv2d(64, 64, kernel_size = 3, stride = 1, padding = 1),\n",
        "            nn.BatchNorm2d(64),\n",
        "            nn.ReLU(inplace=True),\n",
        "            nn.MaxPool2d(2, 2),\n",
        "            # 3. Layer\n",
        "            nn.Conv2d(64, 64, kernel_size = 3, stride = 1, padding = 1),\n",
        "            nn.BatchNorm2d(64),\n",
        "            nn.ReLU(inplace=True),\n",
        "            # 4. Layer\n",
        "            nn.Conv2d(64, 64, kernel_size = 3, stride = 1, padding = 1),\n",
        "            nn.BatchNorm2d(64),\n",
        "            nn.ReLU(inplace=True),\n",
        "            # 5. Layer\n",
        "            nn.Conv2d(64, 64, kernel_size = 3, stride = 1, padding = 1),\n",
        "            nn.BatchNorm2d(64),\n",
        "            nn.ReLU(inplace=True),\n",
        "            nn.MaxPool2d(2, 2),\n",
        "            # fully-connected side\n",
        "            nn.Flatten(),\n",
        "            nn.Linear(16384,1024),\n",
        "            nn.BatchNorm1d(1024),\n",
        "            nn.ReLU(inplace=True),\n",
        "            nn.Dropout(0.5),\n",
        "            nn.Linear(1024, 512),\n",
        "            nn.BatchNorm1d(512),\n",
        "            nn.ReLU(inplace=True),\n",
        "            nn.Dropout(0.5),\n",
        "            nn.Linear(512, 256),\n",
        "            nn.BatchNorm1d(256),\n",
        "            nn.ReLU(inplace=True),\n",
        "            nn.Dropout(0.5),\n",
        "            nn.Linear(256,2),\n",
        "        )\n",
        "    \n",
        "    def forward(self, xb):\n",
        "        return self.network(xb)"
      ]
    },
    {
      "cell_type": "markdown",
      "metadata": {
        "id": "FEfcLhrmBHKg"
      },
      "source": [
        "Hiperparámetros, entrenamiento y evaluación del modelo:"
      ]
    },
    {
      "cell_type": "code",
      "execution_count": null,
      "metadata": {
        "id": "U015K0fEBElO"
      },
      "outputs": [],
      "source": [
        "def accuracy(outputs, labels):\n",
        "    _, preds = torch.max(outputs, dim=1)\n",
        "    return torch.tensor(torch.sum(preds == labels).item() / len(preds))\n",
        "\n",
        "  \n",
        "@torch.no_grad()\n",
        "def evaluate(model, val_loader):\n",
        "    model.eval()\n",
        "    outputs = [model.validation_step(batch) for batch in val_loader]\n",
        "    return model.validation_epoch_end(outputs)\n",
        "\n",
        "def fit(epochs, lr, model, train_loader, val_loader):\n",
        "    history = []\n",
        "    optimizer = torch.optim.Adam(model.parameters(),lr, weight_decay=1e-6)\n",
        "    for epoch in range(epochs):\n",
        "        \n",
        "        model.train()\n",
        "        train_losses = []\n",
        "        for batch in train_loader:\n",
        "            loss = model.training_step(batch)\n",
        "            train_losses.append(loss)\n",
        "            loss.backward()\n",
        "            optimizer.step()\n",
        "            optimizer.zero_grad()\n",
        "            \n",
        "        result = evaluate(model, val_loader)\n",
        "        result['train_loss'] = torch.stack(train_losses).mean().item()\n",
        "        model.epoch_end(epoch, result)\n",
        "        history.append(result)\n",
        "    \n",
        "    return history"
      ]
    },
    {
      "cell_type": "markdown",
      "metadata": {
        "id": "3qvM25edBQt6"
      },
      "source": [
        "Modelo implementado:"
      ]
    },
    {
      "cell_type": "code",
      "execution_count": null,
      "metadata": {
        "colab": {
          "base_uri": "https://localhost:8080/"
        },
        "id": "XhFdbc4NB6eB",
        "outputId": "c5bf2ca9-7aed-4781-f844-1c1c01ab9b4c"
      },
      "outputs": [
        {
          "output_type": "execute_result",
          "data": {
            "text/plain": [
              "MSClassification(\n",
              "  (network): Sequential(\n",
              "    (0): Conv2d(3, 64, kernel_size=(3, 3), stride=(1, 1), padding=(1, 1))\n",
              "    (1): BatchNorm2d(64, eps=1e-05, momentum=0.1, affine=True, track_running_stats=True)\n",
              "    (2): ReLU(inplace=True)\n",
              "    (3): Conv2d(64, 64, kernel_size=(3, 3), stride=(1, 1), padding=(1, 1))\n",
              "    (4): BatchNorm2d(64, eps=1e-05, momentum=0.1, affine=True, track_running_stats=True)\n",
              "    (5): ReLU(inplace=True)\n",
              "    (6): MaxPool2d(kernel_size=2, stride=2, padding=0, dilation=1, ceil_mode=False)\n",
              "    (7): Conv2d(64, 64, kernel_size=(3, 3), stride=(1, 1), padding=(1, 1))\n",
              "    (8): BatchNorm2d(64, eps=1e-05, momentum=0.1, affine=True, track_running_stats=True)\n",
              "    (9): ReLU(inplace=True)\n",
              "    (10): Conv2d(64, 64, kernel_size=(3, 3), stride=(1, 1), padding=(1, 1))\n",
              "    (11): BatchNorm2d(64, eps=1e-05, momentum=0.1, affine=True, track_running_stats=True)\n",
              "    (12): ReLU(inplace=True)\n",
              "    (13): Conv2d(64, 64, kernel_size=(3, 3), stride=(1, 1), padding=(1, 1))\n",
              "    (14): BatchNorm2d(64, eps=1e-05, momentum=0.1, affine=True, track_running_stats=True)\n",
              "    (15): ReLU(inplace=True)\n",
              "    (16): MaxPool2d(kernel_size=2, stride=2, padding=0, dilation=1, ceil_mode=False)\n",
              "    (17): Flatten(start_dim=1, end_dim=-1)\n",
              "    (18): Linear(in_features=16384, out_features=1024, bias=True)\n",
              "    (19): BatchNorm1d(1024, eps=1e-05, momentum=0.1, affine=True, track_running_stats=True)\n",
              "    (20): ReLU(inplace=True)\n",
              "    (21): Dropout(p=0.5, inplace=False)\n",
              "    (22): Linear(in_features=1024, out_features=512, bias=True)\n",
              "    (23): BatchNorm1d(512, eps=1e-05, momentum=0.1, affine=True, track_running_stats=True)\n",
              "    (24): ReLU(inplace=True)\n",
              "    (25): Dropout(p=0.5, inplace=False)\n",
              "    (26): Linear(in_features=512, out_features=256, bias=True)\n",
              "    (27): BatchNorm1d(256, eps=1e-05, momentum=0.1, affine=True, track_running_stats=True)\n",
              "    (28): ReLU(inplace=True)\n",
              "    (29): Dropout(p=0.5, inplace=False)\n",
              "    (30): Linear(in_features=256, out_features=2, bias=True)\n",
              "  )\n",
              ")"
            ]
          },
          "metadata": {},
          "execution_count": 28
        }
      ],
      "source": [
        "model = MSClassification()\n",
        "model"
      ]
    },
    {
      "cell_type": "markdown",
      "metadata": {
        "id": "NK_AxeWsL2Fm"
      },
      "source": [
        "Se utiliza, en caso de estar disponible, la GPU para realizar el entrenamiento del modelo:"
      ]
    },
    {
      "cell_type": "code",
      "execution_count": null,
      "metadata": {
        "id": "tifaPnGDL5Hi"
      },
      "outputs": [],
      "source": [
        "def get_default_device():\n",
        "    \"\"\" Set Device to GPU or CPU\"\"\"\n",
        "    if torch.cuda.is_available():\n",
        "        return torch.device('cuda')\n",
        "    else:\n",
        "        return torch.device('cpu')\n",
        "    \n",
        "\n",
        "def to_device(data, device):\n",
        "    \"Move data to the device\"\n",
        "    if isinstance(data,(list,tuple)):\n",
        "        return [to_device(x,device) for x in data]\n",
        "    return data.to(device,non_blocking = True)\n",
        "\n",
        "class DeviceDataLoader():\n",
        "    \"\"\" Wrap a dataloader to move data to a device \"\"\"\n",
        "    \n",
        "    def __init__(self, dl, device):\n",
        "        self.dl = dl\n",
        "        self.device = device\n",
        "    \n",
        "    def __iter__(self):\n",
        "        \"\"\" Yield a batch of data after moving it to device\"\"\"\n",
        "        for b in self.dl:\n",
        "            yield to_device(b,self.device)\n",
        "            \n",
        "    def __len__(self):\n",
        "        \"\"\" Number of batches \"\"\"\n",
        "        return len(self.dl)"
      ]
    },
    {
      "cell_type": "markdown",
      "source": [
        "¿Qué dispositivo se utiliza?"
      ],
      "metadata": {
        "id": "cAwLxdKTNsz9"
      }
    },
    {
      "cell_type": "code",
      "execution_count": null,
      "metadata": {
        "colab": {
          "base_uri": "https://localhost:8080/"
        },
        "id": "kvve-rjGL5FT",
        "outputId": "b79928bc-905e-44a2-92c7-4f4b2c4d1798"
      },
      "outputs": [
        {
          "output_type": "execute_result",
          "data": {
            "text/plain": [
              "device(type='cuda')"
            ]
          },
          "metadata": {},
          "execution_count": 30
        }
      ],
      "source": [
        "device = get_default_device()\n",
        "device"
      ]
    },
    {
      "cell_type": "markdown",
      "source": [
        "Carga de los archivos para realizar el entrenamiento:"
      ],
      "metadata": {
        "id": "vhzEECCBNvEn"
      }
    },
    {
      "cell_type": "code",
      "execution_count": null,
      "metadata": {
        "colab": {
          "base_uri": "https://localhost:8080/"
        },
        "id": "wecIZSQLL5CS",
        "outputId": "60023cae-79c4-410f-df27-2d1ac4fec50a"
      },
      "outputs": [
        {
          "output_type": "execute_result",
          "data": {
            "text/plain": [
              "MSClassification(\n",
              "  (network): Sequential(\n",
              "    (0): Conv2d(3, 64, kernel_size=(3, 3), stride=(1, 1), padding=(1, 1))\n",
              "    (1): BatchNorm2d(64, eps=1e-05, momentum=0.1, affine=True, track_running_stats=True)\n",
              "    (2): ReLU(inplace=True)\n",
              "    (3): Conv2d(64, 64, kernel_size=(3, 3), stride=(1, 1), padding=(1, 1))\n",
              "    (4): BatchNorm2d(64, eps=1e-05, momentum=0.1, affine=True, track_running_stats=True)\n",
              "    (5): ReLU(inplace=True)\n",
              "    (6): MaxPool2d(kernel_size=2, stride=2, padding=0, dilation=1, ceil_mode=False)\n",
              "    (7): Conv2d(64, 64, kernel_size=(3, 3), stride=(1, 1), padding=(1, 1))\n",
              "    (8): BatchNorm2d(64, eps=1e-05, momentum=0.1, affine=True, track_running_stats=True)\n",
              "    (9): ReLU(inplace=True)\n",
              "    (10): Conv2d(64, 64, kernel_size=(3, 3), stride=(1, 1), padding=(1, 1))\n",
              "    (11): BatchNorm2d(64, eps=1e-05, momentum=0.1, affine=True, track_running_stats=True)\n",
              "    (12): ReLU(inplace=True)\n",
              "    (13): Conv2d(64, 64, kernel_size=(3, 3), stride=(1, 1), padding=(1, 1))\n",
              "    (14): BatchNorm2d(64, eps=1e-05, momentum=0.1, affine=True, track_running_stats=True)\n",
              "    (15): ReLU(inplace=True)\n",
              "    (16): MaxPool2d(kernel_size=2, stride=2, padding=0, dilation=1, ceil_mode=False)\n",
              "    (17): Flatten(start_dim=1, end_dim=-1)\n",
              "    (18): Linear(in_features=16384, out_features=1024, bias=True)\n",
              "    (19): BatchNorm1d(1024, eps=1e-05, momentum=0.1, affine=True, track_running_stats=True)\n",
              "    (20): ReLU(inplace=True)\n",
              "    (21): Dropout(p=0.5, inplace=False)\n",
              "    (22): Linear(in_features=1024, out_features=512, bias=True)\n",
              "    (23): BatchNorm1d(512, eps=1e-05, momentum=0.1, affine=True, track_running_stats=True)\n",
              "    (24): ReLU(inplace=True)\n",
              "    (25): Dropout(p=0.5, inplace=False)\n",
              "    (26): Linear(in_features=512, out_features=256, bias=True)\n",
              "    (27): BatchNorm1d(256, eps=1e-05, momentum=0.1, affine=True, track_running_stats=True)\n",
              "    (28): ReLU(inplace=True)\n",
              "    (29): Dropout(p=0.5, inplace=False)\n",
              "    (30): Linear(in_features=256, out_features=2, bias=True)\n",
              "  )\n",
              ")"
            ]
          },
          "metadata": {},
          "execution_count": 31
        }
      ],
      "source": [
        "# load data\n",
        "train_loader = DeviceDataLoader(train_loader, device)\n",
        "valid_loader = DeviceDataLoader(valid_loader, device)\n",
        "to_device(model, device)"
      ]
    },
    {
      "cell_type": "code",
      "execution_count": null,
      "metadata": {
        "id": "eICwqTIwL4_u"
      },
      "outputs": [],
      "source": [
        "# load the model to the device\n",
        "model = to_device(MSClassification(),device)"
      ]
    },
    {
      "cell_type": "markdown",
      "source": [
        "Se establecen el número de epochs del entrenamiento y el learning rate:"
      ],
      "metadata": {
        "id": "ZU6en-1BN2i6"
      }
    },
    {
      "cell_type": "code",
      "execution_count": null,
      "metadata": {
        "id": "w06WtGXCMT22"
      },
      "outputs": [],
      "source": [
        "# set the no. of epochs and learning rate\n",
        "num_epochs = 50\n",
        "lr = 0.001"
      ]
    },
    {
      "cell_type": "markdown",
      "source": [
        "## Entrenamiento del modelo:"
      ],
      "metadata": {
        "id": "ClyXOB51N9zB"
      }
    },
    {
      "cell_type": "code",
      "execution_count": null,
      "metadata": {
        "colab": {
          "base_uri": "https://localhost:8080/"
        },
        "id": "Od7lbER8MTu4",
        "outputId": "355aa20f-a2f4-477f-987e-4bd75f088422"
      },
      "outputs": [
        {
          "output_type": "stream",
          "name": "stdout",
          "text": [
            "Epoch [1], train_loss: 0.4623, val_loss: 0.5725, val_acc: 0.7675\n",
            "Epoch [2], train_loss: 0.3262, val_loss: 0.3476, val_acc: 0.8454\n",
            "Epoch [3], train_loss: 0.2611, val_loss: 0.2379, val_acc: 0.9093\n",
            "Epoch [4], train_loss: 0.2169, val_loss: 0.3506, val_acc: 0.8761\n",
            "Epoch [5], train_loss: 0.2219, val_loss: 0.2176, val_acc: 0.9006\n",
            "Epoch [6], train_loss: 0.1635, val_loss: 0.2131, val_acc: 0.9165\n",
            "Epoch [7], train_loss: 0.1816, val_loss: 0.3342, val_acc: 0.8477\n",
            "Epoch [8], train_loss: 0.1583, val_loss: 0.1425, val_acc: 0.9510\n",
            "Epoch [9], train_loss: 0.1323, val_loss: 0.1457, val_acc: 0.9351\n",
            "Epoch [10], train_loss: 0.1017, val_loss: 0.1121, val_acc: 0.9563\n",
            "Epoch [11], train_loss: 0.1131, val_loss: 0.1354, val_acc: 0.9362\n",
            "Epoch [12], train_loss: 0.0993, val_loss: 0.2272, val_acc: 0.9327\n",
            "Epoch [13], train_loss: 0.0788, val_loss: 0.2414, val_acc: 0.8909\n",
            "Epoch [14], train_loss: 0.0795, val_loss: 0.0968, val_acc: 0.9663\n",
            "Epoch [15], train_loss: 0.0753, val_loss: 0.1211, val_acc: 0.9602\n",
            "Epoch [16], train_loss: 0.0950, val_loss: 0.4145, val_acc: 0.8271\n",
            "Epoch [17], train_loss: 0.0605, val_loss: 0.0977, val_acc: 0.9683\n",
            "Epoch [18], train_loss: 0.0539, val_loss: 0.1777, val_acc: 0.9419\n",
            "Epoch [19], train_loss: 0.0516, val_loss: 0.1092, val_acc: 0.9611\n",
            "Epoch [20], train_loss: 0.0529, val_loss: 0.1560, val_acc: 0.9443\n",
            "Epoch [21], train_loss: 0.0447, val_loss: 0.0859, val_acc: 0.9731\n",
            "Epoch [22], train_loss: 0.0444, val_loss: 0.0811, val_acc: 0.9707\n",
            "Epoch [23], train_loss: 0.0596, val_loss: 0.1147, val_acc: 0.9587\n",
            "Epoch [24], train_loss: 0.0336, val_loss: 0.1192, val_acc: 0.9534\n",
            "Epoch [25], train_loss: 0.0408, val_loss: 0.3580, val_acc: 0.9082\n",
            "Epoch [26], train_loss: 0.0480, val_loss: 0.1664, val_acc: 0.9399\n",
            "Epoch [27], train_loss: 0.0461, val_loss: 0.1225, val_acc: 0.9611\n",
            "Epoch [28], train_loss: 0.0438, val_loss: 0.1861, val_acc: 0.9135\n",
            "Epoch [29], train_loss: 0.0271, val_loss: 0.0866, val_acc: 0.9755\n",
            "Epoch [30], train_loss: 0.0352, val_loss: 0.1636, val_acc: 0.9467\n",
            "Epoch [31], train_loss: 0.0361, val_loss: 0.1221, val_acc: 0.9582\n",
            "Epoch [32], train_loss: 0.0219, val_loss: 0.1431, val_acc: 0.9591\n",
            "Epoch [33], train_loss: 0.0318, val_loss: 0.1269, val_acc: 0.9399\n",
            "Epoch [34], train_loss: 0.0352, val_loss: 0.1411, val_acc: 0.9659\n",
            "Epoch [35], train_loss: 0.0196, val_loss: 0.1147, val_acc: 0.9635\n",
            "Epoch [36], train_loss: 0.0172, val_loss: 0.0710, val_acc: 0.9775\n",
            "Epoch [37], train_loss: 0.0330, val_loss: 0.1462, val_acc: 0.9534\n",
            "Epoch [38], train_loss: 0.0203, val_loss: 0.1044, val_acc: 0.9736\n",
            "Epoch [39], train_loss: 0.0308, val_loss: 0.0943, val_acc: 0.9760\n",
            "Epoch [40], train_loss: 0.0229, val_loss: 0.1564, val_acc: 0.9635\n",
            "Epoch [41], train_loss: 0.0317, val_loss: 0.0699, val_acc: 0.9779\n",
            "Epoch [42], train_loss: 0.0182, val_loss: 0.1363, val_acc: 0.9582\n",
            "Epoch [43], train_loss: 0.0265, val_loss: 0.1168, val_acc: 0.9712\n",
            "Epoch [44], train_loss: 0.0213, val_loss: 0.0959, val_acc: 0.9731\n",
            "Epoch [45], train_loss: 0.0366, val_loss: 0.1889, val_acc: 0.9434\n",
            "Epoch [46], train_loss: 0.0449, val_loss: 0.2685, val_acc: 0.9169\n",
            "Epoch [47], train_loss: 0.0411, val_loss: 0.0986, val_acc: 0.9674\n",
            "Epoch [48], train_loss: 0.0266, val_loss: 0.1253, val_acc: 0.9635\n",
            "Epoch [49], train_loss: 0.0259, val_loss: 0.1036, val_acc: 0.9751\n",
            "Epoch [50], train_loss: 0.0091, val_loss: 0.1001, val_acc: 0.9659\n"
          ]
        }
      ],
      "source": [
        "# fitting the model on training data and record the result after each epoch\n",
        "history = fit(num_epochs, lr, model, train_loader, valid_loader)"
      ]
    },
    {
      "cell_type": "markdown",
      "source": [
        "Se obtiene el gráfico de evolución de la precisión en función del número de epochs:"
      ],
      "metadata": {
        "id": "ENAi3OttOBfe"
      }
    },
    {
      "cell_type": "code",
      "execution_count": null,
      "metadata": {
        "id": "S6YkzzqiQNaD",
        "colab": {
          "base_uri": "https://localhost:8080/",
          "height": 295
        },
        "outputId": "067cdf09-dfd8-4e49-92ec-06b1bca610ec"
      },
      "outputs": [
        {
          "output_type": "display_data",
          "data": {
            "text/plain": [
              "<Figure size 432x288 with 1 Axes>"
            ],
            "image/png": "[encoded data removed]"
          },
          "metadata": {
            "needs_background": "light"
          }
        }
      ],
      "source": [
        "def plot_accuracies(history):\n",
        "    \"\"\" Plot the history of accuracies\"\"\"\n",
        "    accuracies = [x['val_acc'] for x in history]\n",
        "    plt.plot(accuracies, '-x')\n",
        "    plt.xlabel('epoch')\n",
        "    plt.ylabel('accuracy')\n",
        "    plt.title('Accuracy vs. No. of epochs');\n",
        "    \n",
        "plot_accuracies(history)"
      ]
    },
    {
      "cell_type": "markdown",
      "source": [
        "Se obtiene el gráfico de evolución de la la función de pérdidas en función del número de epochs:"
      ],
      "metadata": {
        "id": "8h7Cyaj2OCVC"
      }
    },
    {
      "cell_type": "code",
      "execution_count": null,
      "metadata": {
        "id": "ZV1S9wp9QQcI",
        "colab": {
          "base_uri": "https://localhost:8080/",
          "height": 295
        },
        "outputId": "9cc747b2-b8b5-4a1f-be13-ffc2d4f4981e"
      },
      "outputs": [
        {
          "output_type": "display_data",
          "data": {
            "text/plain": [
              "<Figure size 432x288 with 1 Axes>"
            ],
            "image/png": "[encoded data removed]"
          },
          "metadata": {
            "needs_background": "light"
          }
        }
      ],
      "source": [
        "def plot_losses(history):\n",
        "    \"\"\" Plot the losses in each epoch\"\"\"\n",
        "    train_losses = [x.get('train_loss') for x in history]\n",
        "    val_losses = [x['val_loss'] for x in history]\n",
        "    plt.plot(train_losses, '-bx')\n",
        "    plt.plot(val_losses, '-rx')\n",
        "    plt.xlabel('epoch')\n",
        "    plt.ylabel('loss')\n",
        "    plt.legend(['Training', 'Validation'])\n",
        "    plt.title('Loss vs. No. of epochs');\n",
        "\n",
        "plot_losses(history)"
      ]
    },
    {
      "cell_type": "markdown",
      "source": [
        "## Evaluación / Test del modelo:"
      ],
      "metadata": {
        "id": "WpAjsZeaOFiQ"
      }
    },
    {
      "cell_type": "code",
      "execution_count": null,
      "metadata": {
        "id": "bma5qA6cQTn2",
        "colab": {
          "base_uri": "https://localhost:8080/"
        },
        "outputId": "1ca21c52-24fe-4e6b-8597-62d38b001ac2"
      },
      "outputs": [
        {
          "output_type": "execute_result",
          "data": {
            "text/plain": [
              "{'val_loss': 0.15864408016204834, 'val_acc': 0.9616477489471436}"
            ]
          },
          "metadata": {},
          "execution_count": 40
        }
      ],
      "source": [
        "# Apply the model on test dataset and Get the results\n",
        "test_loader = DeviceDataLoader(test_loader, device)\n",
        "result = evaluate(model, test_loader)\n",
        "result"
      ]
    },
    {
      "cell_type": "markdown",
      "source": [
        "### Métricas de evaluación:\n",
        "Se obtiene en primer lugar las predicciónes del modelo y las etiquetas correspondientes."
      ],
      "metadata": {
        "id": "Xn65HlZSOPzD"
      }
    },
    {
      "cell_type": "code",
      "execution_count": null,
      "metadata": {
        "id": "7KeTLr61t2mF"
      },
      "outputs": [],
      "source": [
        "from sklearn.metrics import confusion_matrix\n",
        "import seaborn as sn\n",
        "import pandas as pd\n",
        "\n",
        "y_pred = []\n",
        "y_true = []\n",
        "\n",
        "# iterate over test data\n",
        "for inputs, labels in test_loader:\n",
        "        output = model(inputs) # Feed Network\n",
        "\n",
        "        output = (torch.max(torch.exp(output), 1)[1]).data.cpu().numpy()\n",
        "        y_pred.extend(output) # Save Prediction\n",
        "        \n",
        "        labels = labels.data.cpu().numpy()\n",
        "        y_true.extend(labels) # Save Truth"
      ]
    },
    {
      "cell_type": "markdown",
      "source": [
        "#### Matriz de confusión:"
      ],
      "metadata": {
        "id": "ioM62YLOOV1j"
      }
    },
    {
      "cell_type": "code",
      "execution_count": null,
      "metadata": {
        "id": "KvXT22jWyMpz",
        "colab": {
          "base_uri": "https://localhost:8080/",
          "height": 603
        },
        "outputId": "8518a61c-180b-442b-e12d-3dd6aae32372"
      },
      "outputs": [
        {
          "output_type": "execute_result",
          "data": {
            "text/plain": [
              "(Text(0.5, 1.0, 'Confusion Matrix'), None)"
            ]
          },
          "metadata": {},
          "execution_count": 42
        },
        {
          "output_type": "display_data",
          "data": {
            "text/plain": [
              "<Figure size 576x576 with 1 Axes>"
            ],
            "image/png": "[encoded data removed]"
          },
          "metadata": {
            "needs_background": "light"
          }
        }
      ],
      "source": [
        "# constant for classes\n",
        "classes = ('Healthy', 'EM')\n",
        "plt.figure(figsize = (8,8))\n",
        "# Build confusion matrix\n",
        "cf_matrix = confusion_matrix(y_true, y_pred)\n",
        "df_cm = pd.DataFrame(cf_matrix, index=classes, columns=classes)\n",
        "sn.heatmap(df_cm, annot=True, cbar=None, cmap=\"Blues\", fmt=\"d\")\n",
        "plt.title(\"Confusion Matrix\"), plt.tight_layout()\n",
        "#sn.heatmap(df_cm, annot=True)"
      ]
    },
    {
      "cell_type": "markdown",
      "source": [
        "#### Resultados de la clasificación del modelo:"
      ],
      "metadata": {
        "id": "9ERZkiXWOaD6"
      }
    },
    {
      "cell_type": "code",
      "execution_count": null,
      "metadata": {
        "id": "6DSJA2O8t2YG",
        "colab": {
          "base_uri": "https://localhost:8080/"
        },
        "outputId": "a40ca532-28cf-4bdb-99c4-d5ba4674b286"
      },
      "outputs": [
        {
          "output_type": "stream",
          "name": "stdout",
          "text": [
            "              precision    recall  f1-score   support\n",
            "\n",
            "     Healthy       0.98      0.95      0.97       408\n",
            "          EM       0.93      0.97      0.95       277\n",
            "\n",
            "    accuracy                           0.96       685\n",
            "   macro avg       0.96      0.96      0.96       685\n",
            "weighted avg       0.96      0.96      0.96       685\n",
            "\n"
          ]
        }
      ],
      "source": [
        "from sklearn.metrics import classification_report\n",
        "print(classification_report(y_true, y_pred, target_names=classes))"
      ]
    },
    {
      "cell_type": "code",
      "execution_count": null,
      "metadata": {
        "id": "sC-9KDMQDDKN"
      },
      "outputs": [],
      "source": []
    }
  ],
  "metadata": {
    "accelerator": "GPU",
    "colab": {
      "collapsed_sections": [],
      "provenance": []
    },
    "gpuClass": "standard",
    "kernelspec": {
      "display_name": "Python 3",
      "name": "python3"
    },
    "language_info": {
      "name": "python"
    }
  },
  "nbformat": 4,
  "nbformat_minor": 0
}