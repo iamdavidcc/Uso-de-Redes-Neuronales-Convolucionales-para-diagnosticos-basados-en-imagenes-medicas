{
  "cells": [
    {
      "cell_type": "markdown",
      "metadata": {
        "id": "GiZNrMI5IUKl"
      },
      "source": [
        "# Carga de los Datos"
      ]
    },
    {
      "cell_type": "code",
      "execution_count": null,
      "metadata": {
        "id": "CwoszbBNGw1b"
      },
      "outputs": [],
      "source": [
        "# import libraries\n",
        "import torch\n",
        "import numpy as np\n",
        "import cv2\n",
        "import os\n",
        "import matplotlib.pyplot as plt\n",
        "\n",
        "from torchvision import datasets\n",
        "import torchvision.transforms as transforms\n",
        "from torch.utils.data.sampler import SubsetRandomSampler"
      ]
    },
    {
      "cell_type": "code",
      "execution_count": null,
      "metadata": {
        "id": "KMvKl7x_Huo2"
      },
      "outputs": [],
      "source": [
        "# image path - Google Drive\n",
        "data_path = \"/content/drive/MyDrive/images/Axial\""
      ]
    },
    {
      "cell_type": "markdown",
      "source": [
        "## Cálculo de la media y la desviación estándar\n",
        "Se calculan la media y la desviación estándar del conjunto de imágenes para realizar posteriormente en la estandarización de las mismas."
      ],
      "metadata": {
        "id": "M7YlnRQWasGv"
      }
    },
    {
      "cell_type": "code",
      "execution_count": null,
      "metadata": {
        "id": "c0Cp06YVr8cM"
      },
      "outputs": [],
      "source": [
        "# resizing\n",
        "transform = transforms.Compose([transforms.Resize((64,64)),\n",
        "                                transforms.ToTensor()])\n",
        "# data loading\n",
        "dataset = datasets.ImageFolder(root=data_path, transform=transform)\n",
        "dataloader = torch.utils.data.DataLoader(dataset=dataset, batch_size=128)"
      ]
    },
    {
      "cell_type": "code",
      "execution_count": null,
      "metadata": {
        "id": "P-mR_ljzr8T_"
      },
      "outputs": [],
      "source": [
        "# mean and standard deviation\n",
        "def get_mean_and_std(dataloader):\n",
        "    channels_sum, channels_squared_sum, num_batches = 0, 0, 0\n",
        "    for data, _ in dataloader:\n",
        "        # Mean over batch, height and width, but not over the channels\n",
        "        channels_sum += torch.mean(data, dim=[0,2,3])\n",
        "        channels_squared_sum += torch.mean(data**2, dim=[0,2,3])\n",
        "        num_batches += 1\n",
        "    \n",
        "    mean = channels_sum / num_batches\n",
        "    std = (channels_squared_sum / num_batches - mean ** 2) ** 0.5\n",
        "\n",
        "    return mean, std"
      ]
    },
    {
      "cell_type": "code",
      "execution_count": null,
      "metadata": {
        "id": "72COBnZHskaA"
      },
      "outputs": [],
      "source": [
        "mean, std = get_mean_and_std(dataloader)"
      ]
    },
    {
      "cell_type": "markdown",
      "metadata": {
        "id": "w5ZkxhGiRgCu"
      },
      "source": [
        "## Redimensionado y estandarización\n",
        "Se definen las transformaciones a realizar para cada una de las imágenes del dataset:\n",
        "\n",
        "\n",
        "*   Redimensionado\n",
        "*   Estandarización"
      ]
    },
    {
      "cell_type": "code",
      "execution_count": null,
      "metadata": {
        "id": "ac7QPOdltTkE"
      },
      "outputs": [],
      "source": [
        "transform = transforms.Compose([transforms.Resize((64,64)),\n",
        "                                transforms.ToTensor(),\n",
        "                                transforms.Normalize(mean, std)])"
      ]
    },
    {
      "cell_type": "code",
      "execution_count": null,
      "metadata": {
        "id": "OgT78tJCITJU"
      },
      "outputs": [],
      "source": [
        "data = datasets.ImageFolder(root=data_path, transform=transform)"
      ]
    },
    {
      "cell_type": "code",
      "execution_count": null,
      "metadata": {
        "id": "vinY4_QII_YX"
      },
      "outputs": [],
      "source": [
        "image, label = data[0]"
      ]
    },
    {
      "cell_type": "code",
      "execution_count": null,
      "metadata": {
        "colab": {
          "base_uri": "https://localhost:8080/"
        },
        "id": "Ee43wI8yJLgP",
        "outputId": "8602a17b-cd6f-4630-b893-dc970f251054"
      },
      "outputs": [
        {
          "output_type": "stream",
          "name": "stdout",
          "text": [
            "torch.Size([3, 64, 64]) 0\n"
          ]
        }
      ],
      "source": [
        "# image size and label\n",
        "print(image.shape, label)"
      ]
    },
    {
      "cell_type": "code",
      "execution_count": null,
      "metadata": {
        "id": "yUB0BQuwKAzV"
      },
      "outputs": [],
      "source": [
        "# image classes\n",
        "classes = data.classes"
      ]
    },
    {
      "cell_type": "code",
      "execution_count": null,
      "metadata": {
        "colab": {
          "base_uri": "https://localhost:8080/",
          "height": 305
        },
        "id": "yGDA06FjKmBJ",
        "outputId": "6769daf0-8523-4c5a-a6c7-9ee1fef9e23d"
      },
      "outputs": [
        {
          "output_type": "stream",
          "name": "stderr",
          "text": [
            "WARNING:matplotlib.image:Clipping input data to the valid range for imshow with RGB data ([0..1] for floats or [0..255] for integers).\n"
          ]
        },
        {
          "output_type": "stream",
          "name": "stdout",
          "text": [
            "Label : Healthy\n"
          ]
        },
        {
          "output_type": "display_data",
          "data": {
            "text/plain": [
              "<Figure size 432x288 with 1 Axes>"
            ],
            "image/png": "[encoded data removed]"
          },
          "metadata": {
            "needs_background": "light"
          }
        }
      ],
      "source": [
        "# display an image\n",
        "def display_img(img,label):\n",
        "    print(f\"Label : {data.classes[label]}\")\n",
        "    plt.imshow(img.permute(1,2,0), cmap='gray')\n",
        "\n",
        "# display the first image in the dataset\n",
        "display_img(*data[0])"
      ]
    },
    {
      "cell_type": "code",
      "execution_count": null,
      "metadata": {
        "id": "_G0yCivZHw8D"
      },
      "outputs": [],
      "source": [
        "# number of subprocesses to use for data loading\n",
        "num_workers = 0\n",
        "# how many samples per batch to load\n",
        "batch_size = 32"
      ]
    },
    {
      "cell_type": "code",
      "execution_count": null,
      "metadata": {
        "id": "IB5OFa4dIbec"
      },
      "outputs": [],
      "source": [
        "dataloaders = torch.utils.data.DataLoader(data, batch_size=batch_size, \n",
        "                                          shuffle=True, num_workers=num_workers)"
      ]
    },
    {
      "cell_type": "code",
      "execution_count": null,
      "metadata": {
        "id": "QW30YS6RIxzS"
      },
      "outputs": [],
      "source": [
        "# percentage of training set to use as Test\n",
        "test_size = 0.2\n",
        "# percentage of training set to use as validation\n",
        "valid_size = 0.15"
      ]
    },
    {
      "cell_type": "code",
      "execution_count": null,
      "metadata": {
        "id": "bE7svvyiI210"
      },
      "outputs": [],
      "source": [
        "# obtain training indices that will be used for test\n",
        "num_train = len(data)\n",
        "indices = list(range(num_train))\n",
        "np.random.shuffle(indices)\n",
        "split = int(np.floor(test_size * num_train))\n",
        "train_idx, test_idx = indices[split:], indices[:split]"
      ]
    },
    {
      "cell_type": "code",
      "execution_count": null,
      "metadata": {
        "id": "ERyOLinCI59w"
      },
      "outputs": [],
      "source": [
        "# obtain training indices that will be used for validation\n",
        "num_train = len(train_idx)\n",
        "indices = train_idx\n",
        "split2 = int(np.floor(valid_size * num_train))\n",
        "train_idx, valid_idx = indices[split2:], indices[:split2]"
      ]
    },
    {
      "cell_type": "code",
      "execution_count": null,
      "metadata": {
        "id": "h1B8gHOoI8S1"
      },
      "outputs": [],
      "source": [
        "# define samplers for obtaining training and validation batches\n",
        "train_sampler = SubsetRandomSampler(train_idx)\n",
        "valid_sampler = SubsetRandomSampler(valid_idx)\n",
        "test_sampler = SubsetRandomSampler(test_idx)"
      ]
    },
    {
      "cell_type": "code",
      "execution_count": null,
      "metadata": {
        "colab": {
          "base_uri": "https://localhost:8080/"
        },
        "id": "N1e639Jgs7SM",
        "outputId": "359e6b0a-4b09-4236-e4bf-fd7a947240ed"
      },
      "outputs": [
        {
          "output_type": "stream",
          "name": "stdout",
          "text": [
            "1124\n",
            "198\n",
            "330\n",
            "1652\n"
          ]
        }
      ],
      "source": [
        "# sizes for train, validation, test and all data\n",
        "print(len(train_sampler))\n",
        "print(len(valid_sampler))\n",
        "print(len(test_sampler))\n",
        "print(len(data))"
      ]
    },
    {
      "cell_type": "code",
      "execution_count": null,
      "metadata": {
        "id": "Z18o5hQyI94c"
      },
      "outputs": [],
      "source": [
        "# prepare data loaders\n",
        "train_loader = torch.utils.data.DataLoader(data, batch_size=batch_size,\n",
        "                                           sampler=train_sampler, num_workers=num_workers)\n",
        "valid_loader = torch.utils.data.DataLoader(data, batch_size=batch_size, \n",
        "                                           sampler=valid_sampler, num_workers=num_workers)\n",
        "test_loader = torch.utils.data.DataLoader(data, batch_size=batch_size, \n",
        "                                          sampler=test_sampler, num_workers=num_workers)"
      ]
    },
    {
      "cell_type": "code",
      "execution_count": null,
      "metadata": {
        "id": "EYP8CzRVKvjz"
      },
      "outputs": [],
      "source": [
        "# Visualizing the images from a batch\n",
        "from torchvision.utils import make_grid\n",
        "import matplotlib.pyplot as plt\n",
        "\n",
        "def show_batch(dl):\n",
        "    \"\"\"Plot images grid of single batch\"\"\"\n",
        "    for images, labels in dl:\n",
        "        fig,ax = plt.subplots(figsize = (16,12))\n",
        "        ax.set_xticks([])\n",
        "        ax.set_yticks([])\n",
        "        ax.imshow(make_grid(images,nrow=16).permute(1,2,0))\n",
        "        break\n",
        "        \n",
        "show_batch(train_loader)"
      ]
    },
    {
      "cell_type": "markdown",
      "metadata": {
        "id": "sBv5k6gzAPA2"
      },
      "source": [
        "# Red Neuronal Convolucional"
      ]
    },
    {
      "cell_type": "markdown",
      "metadata": {
        "id": "IwFObR0QAw6k"
      },
      "source": [
        "### Entrenamiento y validación:"
      ]
    },
    {
      "cell_type": "code",
      "execution_count": null,
      "metadata": {
        "id": "flXbIzA9MSq5"
      },
      "outputs": [],
      "source": [
        "# import libraries\n",
        "import torch.nn as nn\n",
        "import torch.nn.functional as F\n",
        "\n",
        "class ImageClassificationBase(nn.Module):\n",
        "    \n",
        "    def training_step(self, batch):\n",
        "        images, labels = batch \n",
        "        out = self(images)                  # Generate predictions\n",
        "        loss = F.cross_entropy(out, labels) # Calculate loss\n",
        "        return loss\n",
        "    \n",
        "    def validation_step(self, batch):\n",
        "        images, labels = batch \n",
        "        out = self(images)                    # Generate predictions\n",
        "        loss = F.cross_entropy(out, labels)   # Calculate loss\n",
        "        acc = accuracy(out, labels)           # Calculate accuracy\n",
        "        return {'val_loss': loss.detach(), 'val_acc': acc}\n",
        "        \n",
        "    def validation_epoch_end(self, outputs):\n",
        "        batch_losses = [x['val_loss'] for x in outputs]\n",
        "        epoch_loss = torch.stack(batch_losses).mean()   # Combine losses\n",
        "        batch_accs = [x['val_acc'] for x in outputs]\n",
        "        epoch_acc = torch.stack(batch_accs).mean()      # Combine accuracies\n",
        "        return {'val_loss': epoch_loss.item(), 'val_acc': epoch_acc.item()}\n",
        "    \n",
        "    def epoch_end(self, epoch, result):\n",
        "        print(\"Epoch [{}], train_loss: {:.4f}, val_loss: {:.4f}, val_acc: {:.4f}\".format(\n",
        "            epoch+1, result['train_loss'], result['val_loss'], result['val_acc']))"
      ]
    },
    {
      "cell_type": "markdown",
      "metadata": {
        "id": "lumm7EnLBBpY"
      },
      "source": [
        "Arquitectura de la red neuronal convolucional:"
      ]
    },
    {
      "cell_type": "code",
      "execution_count": null,
      "metadata": {
        "id": "1qzeRiRqAuY6"
      },
      "outputs": [],
      "source": [
        "class MSClassification(ImageClassificationBase):\n",
        "    def __init__(self):\n",
        "        super().__init__()\n",
        "        self.network = nn.Sequential(\n",
        "            # CNN side\n",
        "            # 1\n",
        "            nn.Conv2d(3, 64, kernel_size = 3, stride = 1, padding = 1),\n",
        "            nn.BatchNorm2d(64),\n",
        "            nn.ReLU(inplace=True),\n",
        "            # 2\n",
        "            nn.Conv2d(64, 64, kernel_size = 3, stride = 1, padding = 1),\n",
        "            nn.BatchNorm2d(64),\n",
        "            nn.ReLU(inplace=True),\n",
        "            nn.MaxPool2d(2, 2),\n",
        "            # 3\n",
        "            nn.Conv2d(64, 64, kernel_size = 3, stride = 1, padding = 1),\n",
        "            nn.BatchNorm2d(64),\n",
        "            nn.ReLU(inplace=True),\n",
        "            # 4\n",
        "            nn.Conv2d(64, 64, kernel_size = 3, stride = 1, padding = 1),\n",
        "            nn.BatchNorm2d(64),\n",
        "            nn.ReLU(inplace=True),\n",
        "            # 5\n",
        "            nn.Conv2d(64, 64, kernel_size = 3, stride = 1, padding = 1),\n",
        "            nn.BatchNorm2d(64),\n",
        "            nn.ReLU(inplace=True),\n",
        "            nn.MaxPool2d(2, 2),\n",
        "            # Fully connected side            \n",
        "            nn.Flatten(),\n",
        "            nn.Linear(16384,1024),\n",
        "            nn.BatchNorm1d(1024),\n",
        "            nn.ReLU(inplace=True),\n",
        "            nn.Dropout(0.5),\n",
        "            nn.Linear(1024, 512),\n",
        "            nn.BatchNorm1d(512),\n",
        "            nn.ReLU(inplace=True),\n",
        "            nn.Dropout(0.5),\n",
        "            nn.Linear(512, 256),\n",
        "            nn.BatchNorm1d(256),\n",
        "            nn.ReLU(inplace=True),\n",
        "            nn.Dropout(0.5),\n",
        "            nn.Linear(256,2),\n",
        "        )\n",
        "    \n",
        "    def forward(self, xb):\n",
        "        return self.network(xb)"
      ]
    },
    {
      "cell_type": "markdown",
      "metadata": {
        "id": "FEfcLhrmBHKg"
      },
      "source": [
        "Hiperparámetros, entrenamiento y evaluación del modelo:"
      ]
    },
    {
      "cell_type": "code",
      "execution_count": null,
      "metadata": {
        "id": "U015K0fEBElO"
      },
      "outputs": [],
      "source": [
        "def accuracy(outputs, labels):\n",
        "    _, preds = torch.max(outputs, dim=1)\n",
        "    return torch.tensor(torch.sum(preds == labels).item() / len(preds))\n",
        "\n",
        "  \n",
        "@torch.no_grad()\n",
        "def evaluate(model, val_loader):\n",
        "    model.eval()\n",
        "    outputs = [model.validation_step(batch) for batch in val_loader]\n",
        "    return model.validation_epoch_end(outputs)\n",
        "\n",
        "  \n",
        "#def fit(epochs, lr, model, train_loader, val_loader, opt_func = torch.optim.SGD):\n",
        "def fit(epochs, lr, model, train_loader, val_loader):\n",
        "\n",
        "    history = []\n",
        "    #optimizer = opt_func(model.parameters(),lr)\n",
        "    optimizer = torch.optim.Adam(model.parameters(),lr, weight_decay=1e-6)\n",
        "    #optimizer = torch.optim.Adam(model.parameters(),lr)\n",
        "    for epoch in range(epochs):\n",
        "        \n",
        "        model.train()\n",
        "        train_losses = []\n",
        "        for batch in train_loader:\n",
        "            loss = model.training_step(batch)\n",
        "            train_losses.append(loss)\n",
        "            loss.backward()\n",
        "            optimizer.step()\n",
        "            optimizer.zero_grad()\n",
        "            \n",
        "        result = evaluate(model, val_loader)\n",
        "        result['train_loss'] = torch.stack(train_losses).mean().item()\n",
        "        model.epoch_end(epoch, result)\n",
        "        history.append(result)\n",
        "    \n",
        "    return history"
      ]
    },
    {
      "cell_type": "markdown",
      "metadata": {
        "id": "3qvM25edBQt6"
      },
      "source": [
        "Vista del modelo de CNN implementado:"
      ]
    },
    {
      "cell_type": "code",
      "execution_count": null,
      "metadata": {
        "colab": {
          "base_uri": "https://localhost:8080/"
        },
        "id": "XhFdbc4NB6eB",
        "outputId": "7bc3ae5b-d3f9-48cd-bdf6-b1b0d1fe1ac2"
      },
      "outputs": [
        {
          "output_type": "execute_result",
          "data": {
            "text/plain": [
              "MSClassification(\n",
              "  (network): Sequential(\n",
              "    (0): Conv2d(3, 64, kernel_size=(3, 3), stride=(1, 1), padding=(1, 1))\n",
              "    (1): BatchNorm2d(64, eps=1e-05, momentum=0.1, affine=True, track_running_stats=True)\n",
              "    (2): ReLU(inplace=True)\n",
              "    (3): Conv2d(64, 64, kernel_size=(3, 3), stride=(1, 1), padding=(1, 1))\n",
              "    (4): BatchNorm2d(64, eps=1e-05, momentum=0.1, affine=True, track_running_stats=True)\n",
              "    (5): ReLU(inplace=True)\n",
              "    (6): MaxPool2d(kernel_size=2, stride=2, padding=0, dilation=1, ceil_mode=False)\n",
              "    (7): Conv2d(64, 64, kernel_size=(3, 3), stride=(1, 1), padding=(1, 1))\n",
              "    (8): BatchNorm2d(64, eps=1e-05, momentum=0.1, affine=True, track_running_stats=True)\n",
              "    (9): ReLU(inplace=True)\n",
              "    (10): Conv2d(64, 64, kernel_size=(3, 3), stride=(1, 1), padding=(1, 1))\n",
              "    (11): BatchNorm2d(64, eps=1e-05, momentum=0.1, affine=True, track_running_stats=True)\n",
              "    (12): ReLU(inplace=True)\n",
              "    (13): Conv2d(64, 64, kernel_size=(3, 3), stride=(1, 1), padding=(1, 1))\n",
              "    (14): BatchNorm2d(64, eps=1e-05, momentum=0.1, affine=True, track_running_stats=True)\n",
              "    (15): ReLU(inplace=True)\n",
              "    (16): MaxPool2d(kernel_size=2, stride=2, padding=0, dilation=1, ceil_mode=False)\n",
              "    (17): Flatten(start_dim=1, end_dim=-1)\n",
              "    (18): Linear(in_features=16384, out_features=1024, bias=True)\n",
              "    (19): BatchNorm1d(1024, eps=1e-05, momentum=0.1, affine=True, track_running_stats=True)\n",
              "    (20): ReLU(inplace=True)\n",
              "    (21): Dropout(p=0.5, inplace=False)\n",
              "    (22): Linear(in_features=1024, out_features=512, bias=True)\n",
              "    (23): BatchNorm1d(512, eps=1e-05, momentum=0.1, affine=True, track_running_stats=True)\n",
              "    (24): ReLU(inplace=True)\n",
              "    (25): Dropout(p=0.5, inplace=False)\n",
              "    (26): Linear(in_features=512, out_features=256, bias=True)\n",
              "    (27): BatchNorm1d(256, eps=1e-05, momentum=0.1, affine=True, track_running_stats=True)\n",
              "    (28): ReLU(inplace=True)\n",
              "    (29): Dropout(p=0.5, inplace=False)\n",
              "    (30): Linear(in_features=256, out_features=2, bias=True)\n",
              "  )\n",
              ")"
            ]
          },
          "metadata": {},
          "execution_count": 28
        }
      ],
      "source": [
        "model = MSClassification()\n",
        "model"
      ]
    },
    {
      "cell_type": "markdown",
      "metadata": {
        "id": "NK_AxeWsL2Fm"
      },
      "source": [
        "Se utiliza, en caso de estar disponible, la GPU para realizar el entrenamiento del modelo:"
      ]
    },
    {
      "cell_type": "code",
      "execution_count": null,
      "metadata": {
        "id": "tifaPnGDL5Hi"
      },
      "outputs": [],
      "source": [
        "def get_default_device():\n",
        "    \"\"\" Set Device to GPU or CPU\"\"\"\n",
        "    if torch.cuda.is_available():\n",
        "        return torch.device('cuda')\n",
        "    else:\n",
        "        return torch.device('cpu')\n",
        "    \n",
        "\n",
        "def to_device(data, device):\n",
        "    \"Move data to the device\"\n",
        "    if isinstance(data,(list,tuple)):\n",
        "        return [to_device(x,device) for x in data]\n",
        "    return data.to(device,non_blocking = True)\n",
        "\n",
        "class DeviceDataLoader():\n",
        "    \"\"\" Wrap a dataloader to move data to a device \"\"\"\n",
        "    \n",
        "    def __init__(self, dl, device):\n",
        "        self.dl = dl\n",
        "        self.device = device\n",
        "    \n",
        "    def __iter__(self):\n",
        "        \"\"\" Yield a batch of data after moving it to device\"\"\"\n",
        "        for b in self.dl:\n",
        "            yield to_device(b,self.device)\n",
        "            \n",
        "    def __len__(self):\n",
        "        \"\"\" Number of batches \"\"\"\n",
        "        return len(self.dl)"
      ]
    },
    {
      "cell_type": "markdown",
      "source": [
        "¿Qué dispositivo se utiliza?"
      ],
      "metadata": {
        "id": "dsZbMRoUfiDV"
      }
    },
    {
      "cell_type": "code",
      "execution_count": null,
      "metadata": {
        "colab": {
          "base_uri": "https://localhost:8080/"
        },
        "id": "kvve-rjGL5FT",
        "outputId": "67974dda-59e8-4767-ef62-c53be0ec2359"
      },
      "outputs": [
        {
          "output_type": "execute_result",
          "data": {
            "text/plain": [
              "device(type='cpu')"
            ]
          },
          "metadata": {},
          "execution_count": 30
        }
      ],
      "source": [
        "device = get_default_device()\n",
        "device"
      ]
    },
    {
      "cell_type": "markdown",
      "source": [
        "Carga de los archivos para realizar el entrenamiento:"
      ],
      "metadata": {
        "id": "BPB6IT3aflNW"
      }
    },
    {
      "cell_type": "code",
      "execution_count": null,
      "metadata": {
        "colab": {
          "base_uri": "https://localhost:8080/"
        },
        "id": "wecIZSQLL5CS",
        "outputId": "bf84a915-b6e7-423c-9766-97192a62eabf"
      },
      "outputs": [
        {
          "output_type": "execute_result",
          "data": {
            "text/plain": [
              "MSClassification(\n",
              "  (network): Sequential(\n",
              "    (0): Conv2d(3, 64, kernel_size=(3, 3), stride=(1, 1), padding=(1, 1))\n",
              "    (1): BatchNorm2d(64, eps=1e-05, momentum=0.1, affine=True, track_running_stats=True)\n",
              "    (2): ReLU(inplace=True)\n",
              "    (3): Conv2d(64, 64, kernel_size=(3, 3), stride=(1, 1), padding=(1, 1))\n",
              "    (4): BatchNorm2d(64, eps=1e-05, momentum=0.1, affine=True, track_running_stats=True)\n",
              "    (5): ReLU(inplace=True)\n",
              "    (6): MaxPool2d(kernel_size=2, stride=2, padding=0, dilation=1, ceil_mode=False)\n",
              "    (7): Conv2d(64, 64, kernel_size=(3, 3), stride=(1, 1), padding=(1, 1))\n",
              "    (8): BatchNorm2d(64, eps=1e-05, momentum=0.1, affine=True, track_running_stats=True)\n",
              "    (9): ReLU(inplace=True)\n",
              "    (10): Conv2d(64, 64, kernel_size=(3, 3), stride=(1, 1), padding=(1, 1))\n",
              "    (11): BatchNorm2d(64, eps=1e-05, momentum=0.1, affine=True, track_running_stats=True)\n",
              "    (12): ReLU(inplace=True)\n",
              "    (13): Conv2d(64, 64, kernel_size=(3, 3), stride=(1, 1), padding=(1, 1))\n",
              "    (14): BatchNorm2d(64, eps=1e-05, momentum=0.1, affine=True, track_running_stats=True)\n",
              "    (15): ReLU(inplace=True)\n",
              "    (16): MaxPool2d(kernel_size=2, stride=2, padding=0, dilation=1, ceil_mode=False)\n",
              "    (17): Flatten(start_dim=1, end_dim=-1)\n",
              "    (18): Linear(in_features=16384, out_features=1024, bias=True)\n",
              "    (19): BatchNorm1d(1024, eps=1e-05, momentum=0.1, affine=True, track_running_stats=True)\n",
              "    (20): ReLU(inplace=True)\n",
              "    (21): Dropout(p=0.5, inplace=False)\n",
              "    (22): Linear(in_features=1024, out_features=512, bias=True)\n",
              "    (23): BatchNorm1d(512, eps=1e-05, momentum=0.1, affine=True, track_running_stats=True)\n",
              "    (24): ReLU(inplace=True)\n",
              "    (25): Dropout(p=0.5, inplace=False)\n",
              "    (26): Linear(in_features=512, out_features=256, bias=True)\n",
              "    (27): BatchNorm1d(256, eps=1e-05, momentum=0.1, affine=True, track_running_stats=True)\n",
              "    (28): ReLU(inplace=True)\n",
              "    (29): Dropout(p=0.5, inplace=False)\n",
              "    (30): Linear(in_features=256, out_features=2, bias=True)\n",
              "  )\n",
              ")"
            ]
          },
          "metadata": {},
          "execution_count": 31
        }
      ],
      "source": [
        "# load data\n",
        "train_loader = DeviceDataLoader(train_loader, device)\n",
        "valid_loader = DeviceDataLoader(valid_loader, device)\n",
        "to_device(model, device)"
      ]
    },
    {
      "cell_type": "code",
      "execution_count": null,
      "metadata": {
        "id": "eICwqTIwL4_u"
      },
      "outputs": [],
      "source": [
        "# load the model to the device\n",
        "model = to_device(MSClassification(),device)"
      ]
    },
    {
      "cell_type": "markdown",
      "source": [
        "Se establecen el número de epochs del entrenamiento y el learning rate:"
      ],
      "metadata": {
        "id": "Tl1UoYJ3f1dL"
      }
    },
    {
      "cell_type": "code",
      "execution_count": null,
      "metadata": {
        "id": "w06WtGXCMT22"
      },
      "outputs": [],
      "source": [
        "#set the no. of epochs learning rate\n",
        "num_epochs = 50\n",
        "lr = 0.001"
      ]
    },
    {
      "cell_type": "markdown",
      "source": [
        "## Entrenamiento del modelo"
      ],
      "metadata": {
        "id": "8I85gLN9gOrO"
      }
    },
    {
      "cell_type": "code",
      "execution_count": null,
      "metadata": {
        "colab": {
          "base_uri": "https://localhost:8080/"
        },
        "id": "Od7lbER8MTu4",
        "outputId": "d3ce4ff2-6911-4b71-afe5-0c2a7f13818c"
      },
      "outputs": [
        {
          "output_type": "stream",
          "name": "stdout",
          "text": [
            "Epoch [1], train_loss: 0.4373, val_loss: 0.3817, val_acc: 0.8229\n",
            "Epoch [2], train_loss: 0.2822, val_loss: 0.5732, val_acc: 0.8244\n",
            "Epoch [3], train_loss: 0.2465, val_loss: 0.8202, val_acc: 0.7024\n",
            "Epoch [4], train_loss: 0.3057, val_loss: 0.2747, val_acc: 0.8705\n",
            "Epoch [5], train_loss: 0.2333, val_loss: 0.2207, val_acc: 0.9137\n",
            "Epoch [6], train_loss: 0.2283, val_loss: 0.3892, val_acc: 0.8824\n",
            "Epoch [7], train_loss: 0.2576, val_loss: 0.5571, val_acc: 0.8244\n",
            "Epoch [8], train_loss: 0.2457, val_loss: 0.1812, val_acc: 0.8899\n",
            "Epoch [9], train_loss: 0.2054, val_loss: 0.2945, val_acc: 0.8839\n",
            "Epoch [10], train_loss: 0.1966, val_loss: 0.2029, val_acc: 0.9464\n",
            "Epoch [11], train_loss: 0.2211, val_loss: 0.1581, val_acc: 0.9420\n",
            "Epoch [12], train_loss: 0.1692, val_loss: 0.2334, val_acc: 0.9196\n",
            "Epoch [13], train_loss: 0.1471, val_loss: 0.1471, val_acc: 0.9554\n",
            "Epoch [14], train_loss: 0.1342, val_loss: 0.1862, val_acc: 0.9330\n",
            "Epoch [15], train_loss: 0.1112, val_loss: 0.1730, val_acc: 0.9464\n",
            "Epoch [16], train_loss: 0.0893, val_loss: 0.1524, val_acc: 0.9420\n",
            "Epoch [17], train_loss: 0.0959, val_loss: 0.1947, val_acc: 0.9375\n",
            "Epoch [18], train_loss: 0.1114, val_loss: 1.1317, val_acc: 0.5997\n",
            "Epoch [19], train_loss: 0.0972, val_loss: 0.1660, val_acc: 0.9598\n",
            "Epoch [20], train_loss: 0.2554, val_loss: 0.2099, val_acc: 0.8973\n",
            "Epoch [21], train_loss: 0.1659, val_loss: 0.2274, val_acc: 0.9182\n",
            "Epoch [22], train_loss: 0.1338, val_loss: 0.2220, val_acc: 0.9226\n",
            "Epoch [23], train_loss: 0.1037, val_loss: 0.1467, val_acc: 0.9732\n",
            "Epoch [24], train_loss: 0.1502, val_loss: 0.1638, val_acc: 0.9360\n",
            "Epoch [25], train_loss: 0.0866, val_loss: 0.1528, val_acc: 0.9598\n",
            "Epoch [26], train_loss: 0.0640, val_loss: 0.1626, val_acc: 0.9360\n",
            "Epoch [27], train_loss: 0.0802, val_loss: 0.1313, val_acc: 0.9732\n",
            "Epoch [28], train_loss: 0.1628, val_loss: 0.1893, val_acc: 0.9375\n",
            "Epoch [29], train_loss: 0.1439, val_loss: 0.3153, val_acc: 0.8527\n",
            "Epoch [30], train_loss: 0.2240, val_loss: 0.1631, val_acc: 0.9420\n",
            "Epoch [31], train_loss: 0.1039, val_loss: 0.1478, val_acc: 0.9539\n",
            "Epoch [32], train_loss: 0.0781, val_loss: 0.1292, val_acc: 0.9732\n",
            "Epoch [33], train_loss: 0.0525, val_loss: 0.1282, val_acc: 0.9643\n",
            "Epoch [34], train_loss: 0.0581, val_loss: 0.1624, val_acc: 0.9315\n",
            "Epoch [35], train_loss: 0.1273, val_loss: 0.1022, val_acc: 0.9688\n",
            "Epoch [36], train_loss: 0.1448, val_loss: 0.3785, val_acc: 0.8289\n",
            "Epoch [37], train_loss: 0.0682, val_loss: 0.1917, val_acc: 0.9182\n",
            "Epoch [38], train_loss: 0.0679, val_loss: 0.1650, val_acc: 0.9554\n",
            "Epoch [39], train_loss: 0.0759, val_loss: 0.2220, val_acc: 0.8958\n",
            "Epoch [40], train_loss: 0.0424, val_loss: 0.1617, val_acc: 0.9315\n",
            "Epoch [41], train_loss: 0.0525, val_loss: 0.1190, val_acc: 0.9688\n",
            "Epoch [42], train_loss: 0.1422, val_loss: 0.2924, val_acc: 0.9018\n",
            "Epoch [43], train_loss: 0.1444, val_loss: 0.2878, val_acc: 0.9241\n",
            "Epoch [44], train_loss: 0.0789, val_loss: 0.1425, val_acc: 0.9598\n",
            "Epoch [45], train_loss: 0.0468, val_loss: 0.0981, val_acc: 0.9688\n",
            "Epoch [46], train_loss: 0.0319, val_loss: 0.1243, val_acc: 0.9643\n",
            "Epoch [47], train_loss: 0.1193, val_loss: 0.1691, val_acc: 0.9405\n",
            "Epoch [48], train_loss: 0.0945, val_loss: 0.1702, val_acc: 0.9360\n",
            "Epoch [49], train_loss: 0.0640, val_loss: 0.0864, val_acc: 0.9732\n",
            "Epoch [50], train_loss: 0.0428, val_loss: 0.1360, val_acc: 0.9777\n"
          ]
        }
      ],
      "source": [
        "# fitting the model on training data and record the result after each epoch\n",
        "history = fit(num_epochs, lr, model, train_loader, valid_loader)"
      ]
    },
    {
      "cell_type": "markdown",
      "source": [
        "Se obtiene el gráfico de evolución de la precisión en función del número de epochs:"
      ],
      "metadata": {
        "id": "WWEAUnflgSis"
      }
    },
    {
      "cell_type": "code",
      "execution_count": null,
      "metadata": {
        "colab": {
          "base_uri": "https://localhost:8080/",
          "height": 295
        },
        "id": "S6YkzzqiQNaD",
        "outputId": "fee202fd-eeba-4d0d-83f0-8b8b07a42210"
      },
      "outputs": [
        {
          "output_type": "display_data",
          "data": {
            "text/plain": [
              "<Figure size 432x288 with 1 Axes>"
            ],
            "image/png": "[encoded data removed]"
          },
          "metadata": {
            "needs_background": "light"
          }
        }
      ],
      "source": [
        "def plot_accuracies(history):\n",
        "    \"\"\" Plot the history of accuracies\"\"\"\n",
        "    accuracies = [x['val_acc'] for x in history]\n",
        "    plt.plot(accuracies, '-x')\n",
        "    plt.xlabel('epoch')\n",
        "    plt.ylabel('accuracy')\n",
        "    plt.title('Accuracy vs. No. of epochs');\n",
        "    \n",
        "plot_accuracies(history)"
      ]
    },
    {
      "cell_type": "markdown",
      "source": [
        "Se obtiene el gráfico de evolución de la función de pérdidas en función del número de epochs:"
      ],
      "metadata": {
        "id": "WiDdvuHKgTXq"
      }
    },
    {
      "cell_type": "code",
      "execution_count": null,
      "metadata": {
        "colab": {
          "base_uri": "https://localhost:8080/",
          "height": 295
        },
        "id": "ZV1S9wp9QQcI",
        "outputId": "6c20c047-47a3-4bd5-9f13-61e0ab3deb0c"
      },
      "outputs": [
        {
          "output_type": "display_data",
          "data": {
            "text/plain": [
              "<Figure size 432x288 with 1 Axes>"
            ],
            "image/png": "[encoded data removed]"
          },
          "metadata": {
            "needs_background": "light"
          }
        }
      ],
      "source": [
        "def plot_losses(history):\n",
        "    \"\"\" Plot the losses in each epoch\"\"\"\n",
        "    train_losses = [x.get('train_loss') for x in history]\n",
        "    val_losses = [x['val_loss'] for x in history]\n",
        "    plt.plot(train_losses, '-bx')\n",
        "    plt.plot(val_losses, '-rx')\n",
        "    plt.xlabel('epoch')\n",
        "    plt.ylabel('loss')\n",
        "    plt.legend(['Training', 'Validation'])\n",
        "    plt.title('Loss vs. No. of epochs');\n",
        "\n",
        "plot_losses(history)"
      ]
    },
    {
      "cell_type": "markdown",
      "source": [
        "## Evaluación / Test del modelo"
      ],
      "metadata": {
        "id": "znDCdAh3gW82"
      }
    },
    {
      "cell_type": "code",
      "execution_count": null,
      "metadata": {
        "colab": {
          "base_uri": "https://localhost:8080/"
        },
        "id": "bma5qA6cQTn2",
        "outputId": "cb20cca2-ecad-4b73-ea13-965dc2d3532a"
      },
      "outputs": [
        {
          "output_type": "execute_result",
          "data": {
            "text/plain": [
              "{'val_loss': 0.19456535577774048, 'val_acc': 0.9624999761581421}"
            ]
          },
          "metadata": {},
          "execution_count": 40
        }
      ],
      "source": [
        "# Apply the model on test dataset and Get the results\n",
        "test_loader = DeviceDataLoader(test_loader, device)\n",
        "result = evaluate(model, test_loader)\n",
        "result"
      ]
    },
    {
      "cell_type": "markdown",
      "source": [
        "### Métricas de la evaluación:\n",
        "Se obtienen en primer lugar las predicciones del modelo y las etiquetas correspondientes."
      ],
      "metadata": {
        "id": "yDDNB6esgbqD"
      }
    },
    {
      "cell_type": "code",
      "execution_count": null,
      "metadata": {
        "id": "7KeTLr61t2mF"
      },
      "outputs": [],
      "source": [
        "from sklearn.metrics import confusion_matrix\n",
        "import seaborn as sn\n",
        "import pandas as pd\n",
        "\n",
        "y_pred = []\n",
        "y_true = []\n",
        "\n",
        "# iterate over test data\n",
        "for inputs, labels in test_loader:\n",
        "        output = model(inputs) # Feed Network\n",
        "\n",
        "        output = (torch.max(torch.exp(output), 1)[1]).data.cpu().numpy()\n",
        "        y_pred.extend(output) # Save Prediction\n",
        "        \n",
        "        labels = labels.data.cpu().numpy()\n",
        "        y_true.extend(labels) # Save Truth"
      ]
    },
    {
      "cell_type": "markdown",
      "source": [
        "#### Matriz de confusión"
      ],
      "metadata": {
        "id": "CRkfv-rOglMK"
      }
    },
    {
      "cell_type": "code",
      "execution_count": null,
      "metadata": {
        "colab": {
          "base_uri": "https://localhost:8080/",
          "height": 603
        },
        "id": "KvXT22jWyMpz",
        "outputId": "758abc50-04ec-477f-bb39-5b1228cfe4e1"
      },
      "outputs": [
        {
          "output_type": "execute_result",
          "data": {
            "text/plain": [
              "(Text(0.5, 1.0, 'Confusion Matrix'), None)"
            ]
          },
          "metadata": {},
          "execution_count": 42
        },
        {
          "output_type": "display_data",
          "data": {
            "text/plain": [
              "<Figure size 576x576 with 1 Axes>"
            ],
            "image/png": "[encoded data removed]"
          },
          "metadata": {
            "needs_background": "light"
          }
        }
      ],
      "source": [
        "# constant for classes\n",
        "classes = ('Healthy', 'EM')\n",
        "plt.figure(figsize = (8,8))\n",
        "# Build confusion matrix\n",
        "cf_matrix = confusion_matrix(y_true, y_pred)\n",
        "df_cm = pd.DataFrame(cf_matrix, index=classes, columns=classes)\n",
        "sn.heatmap(df_cm, annot=True, cbar=None, cmap=\"Blues\", fmt=\"d\")\n",
        "plt.title(\"Confusion Matrix\"), plt.tight_layout()"
      ]
    },
    {
      "cell_type": "markdown",
      "source": [
        "#### Resultados de la clasificación del modelo:"
      ],
      "metadata": {
        "id": "wR_49qS6gnti"
      }
    },
    {
      "cell_type": "code",
      "execution_count": null,
      "metadata": {
        "colab": {
          "base_uri": "https://localhost:8080/"
        },
        "id": "6DSJA2O8t2YG",
        "outputId": "e35604c6-34bd-4e46-a7f4-0291873998f9"
      },
      "outputs": [
        {
          "output_type": "stream",
          "name": "stdout",
          "text": [
            "              precision    recall  f1-score   support\n",
            "\n",
            "     Healthy       0.95      1.00      0.97       194\n",
            "          EM       1.00      0.92      0.96       136\n",
            "\n",
            "    accuracy                           0.97       330\n",
            "   macro avg       0.97      0.96      0.97       330\n",
            "weighted avg       0.97      0.97      0.97       330\n",
            "\n"
          ]
        }
      ],
      "source": [
        "from sklearn.metrics import classification_report\n",
        "print(classification_report(y_true, y_pred, target_names=classes))"
      ]
    },
    {
      "cell_type": "code",
      "execution_count": null,
      "metadata": {
        "id": "sC-9KDMQDDKN"
      },
      "outputs": [],
      "source": []
    }
  ],
  "metadata": {
    "accelerator": "GPU",
    "colab": {
      "collapsed_sections": [],
      "provenance": []
    },
    "gpuClass": "standard",
    "kernelspec": {
      "display_name": "Python 3",
      "name": "python3"
    },
    "language_info": {
      "name": "python"
    }
  },
  "nbformat": 4,
  "nbformat_minor": 0
}